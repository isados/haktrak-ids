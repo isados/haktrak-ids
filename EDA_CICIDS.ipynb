{
 "cells": [
  {
   "source": [
    "## Setup"
   ],
   "cell_type": "markdown",
   "metadata": {}
  },
  {
   "cell_type": "code",
   "execution_count": 1,
   "id": "39d70b9c",
   "metadata": {},
   "outputs": [],
   "source": [
    "import json as js\n",
    "import pandas as pd\n",
    "import numpy as np\n",
    "from pprint import pprint \n",
    "%matplotlib inline"
   ]
  },
  {
   "cell_type": "code",
   "execution_count": 2,
   "metadata": {},
   "outputs": [],
   "source": [
    "# Paths\n",
    "basedataset_path = \"CIC_IDS2017_Dataset/MachineLearningCVE/Friday-WorkingHours-Afternoon-DDos.pcap_ISCX.csv\"\n",
    "owndataset_path = \"CompanyDataset/example.pcap_Flow.csv\""
   ]
  },
  {
   "source": [
    "### Base Dataset Preview"
   ],
   "cell_type": "markdown",
   "metadata": {}
  },
  {
   "cell_type": "code",
   "execution_count": 3,
   "id": "443cdb7d",
   "metadata": {},
   "outputs": [
    {
     "output_type": "execute_result",
     "data": {
      "text/plain": [
       "    Destination Port   Flow Duration   Total Fwd Packets  \\\n",
       "0              54865               3                   2   \n",
       "1              55054             109                   1   \n",
       "2              55055              52                   1   \n",
       "3              46236              34                   1   \n",
       "4              54863               3                   2   \n",
       "\n",
       "    Total Backward Packets  Total Length of Fwd Packets  \\\n",
       "0                        0                           12   \n",
       "1                        1                            6   \n",
       "2                        1                            6   \n",
       "3                        1                            6   \n",
       "4                        0                           12   \n",
       "\n",
       "    Total Length of Bwd Packets   Fwd Packet Length Max  \\\n",
       "0                             0                       6   \n",
       "1                             6                       6   \n",
       "2                             6                       6   \n",
       "3                             6                       6   \n",
       "4                             0                       6   \n",
       "\n",
       "    Fwd Packet Length Min   Fwd Packet Length Mean   Fwd Packet Length Std  \\\n",
       "0                       6                      6.0                     0.0   \n",
       "1                       6                      6.0                     0.0   \n",
       "2                       6                      6.0                     0.0   \n",
       "3                       6                      6.0                     0.0   \n",
       "4                       6                      6.0                     0.0   \n",
       "\n",
       "   ...   min_seg_size_forward  Active Mean   Active Std   Active Max  \\\n",
       "0  ...                     20          0.0          0.0            0   \n",
       "1  ...                     20          0.0          0.0            0   \n",
       "2  ...                     20          0.0          0.0            0   \n",
       "3  ...                     20          0.0          0.0            0   \n",
       "4  ...                     20          0.0          0.0            0   \n",
       "\n",
       "    Active Min  Idle Mean   Idle Std   Idle Max   Idle Min   Label  \n",
       "0            0        0.0        0.0          0          0  BENIGN  \n",
       "1            0        0.0        0.0          0          0  BENIGN  \n",
       "2            0        0.0        0.0          0          0  BENIGN  \n",
       "3            0        0.0        0.0          0          0  BENIGN  \n",
       "4            0        0.0        0.0          0          0  BENIGN  \n",
       "\n",
       "[5 rows x 79 columns]"
      ],
      "text/html": "<div>\n<style scoped>\n    .dataframe tbody tr th:only-of-type {\n        vertical-align: middle;\n    }\n\n    .dataframe tbody tr th {\n        vertical-align: top;\n    }\n\n    .dataframe thead th {\n        text-align: right;\n    }\n</style>\n<table border=\"1\" class=\"dataframe\">\n  <thead>\n    <tr style=\"text-align: right;\">\n      <th></th>\n      <th>Destination Port</th>\n      <th>Flow Duration</th>\n      <th>Total Fwd Packets</th>\n      <th>Total Backward Packets</th>\n      <th>Total Length of Fwd Packets</th>\n      <th>Total Length of Bwd Packets</th>\n      <th>Fwd Packet Length Max</th>\n      <th>Fwd Packet Length Min</th>\n      <th>Fwd Packet Length Mean</th>\n      <th>Fwd Packet Length Std</th>\n      <th>...</th>\n      <th>min_seg_size_forward</th>\n      <th>Active Mean</th>\n      <th>Active Std</th>\n      <th>Active Max</th>\n      <th>Active Min</th>\n      <th>Idle Mean</th>\n      <th>Idle Std</th>\n      <th>Idle Max</th>\n      <th>Idle Min</th>\n      <th>Label</th>\n    </tr>\n  </thead>\n  <tbody>\n    <tr>\n      <th>0</th>\n      <td>54865</td>\n      <td>3</td>\n      <td>2</td>\n      <td>0</td>\n      <td>12</td>\n      <td>0</td>\n      <td>6</td>\n      <td>6</td>\n      <td>6.0</td>\n      <td>0.0</td>\n      <td>...</td>\n      <td>20</td>\n      <td>0.0</td>\n      <td>0.0</td>\n      <td>0</td>\n      <td>0</td>\n      <td>0.0</td>\n      <td>0.0</td>\n      <td>0</td>\n      <td>0</td>\n      <td>BENIGN</td>\n    </tr>\n    <tr>\n      <th>1</th>\n      <td>55054</td>\n      <td>109</td>\n      <td>1</td>\n      <td>1</td>\n      <td>6</td>\n      <td>6</td>\n      <td>6</td>\n      <td>6</td>\n      <td>6.0</td>\n      <td>0.0</td>\n      <td>...</td>\n      <td>20</td>\n      <td>0.0</td>\n      <td>0.0</td>\n      <td>0</td>\n      <td>0</td>\n      <td>0.0</td>\n      <td>0.0</td>\n      <td>0</td>\n      <td>0</td>\n      <td>BENIGN</td>\n    </tr>\n    <tr>\n      <th>2</th>\n      <td>55055</td>\n      <td>52</td>\n      <td>1</td>\n      <td>1</td>\n      <td>6</td>\n      <td>6</td>\n      <td>6</td>\n      <td>6</td>\n      <td>6.0</td>\n      <td>0.0</td>\n      <td>...</td>\n      <td>20</td>\n      <td>0.0</td>\n      <td>0.0</td>\n      <td>0</td>\n      <td>0</td>\n      <td>0.0</td>\n      <td>0.0</td>\n      <td>0</td>\n      <td>0</td>\n      <td>BENIGN</td>\n    </tr>\n    <tr>\n      <th>3</th>\n      <td>46236</td>\n      <td>34</td>\n      <td>1</td>\n      <td>1</td>\n      <td>6</td>\n      <td>6</td>\n      <td>6</td>\n      <td>6</td>\n      <td>6.0</td>\n      <td>0.0</td>\n      <td>...</td>\n      <td>20</td>\n      <td>0.0</td>\n      <td>0.0</td>\n      <td>0</td>\n      <td>0</td>\n      <td>0.0</td>\n      <td>0.0</td>\n      <td>0</td>\n      <td>0</td>\n      <td>BENIGN</td>\n    </tr>\n    <tr>\n      <th>4</th>\n      <td>54863</td>\n      <td>3</td>\n      <td>2</td>\n      <td>0</td>\n      <td>12</td>\n      <td>0</td>\n      <td>6</td>\n      <td>6</td>\n      <td>6.0</td>\n      <td>0.0</td>\n      <td>...</td>\n      <td>20</td>\n      <td>0.0</td>\n      <td>0.0</td>\n      <td>0</td>\n      <td>0</td>\n      <td>0.0</td>\n      <td>0.0</td>\n      <td>0</td>\n      <td>0</td>\n      <td>BENIGN</td>\n    </tr>\n  </tbody>\n</table>\n<p>5 rows × 79 columns</p>\n</div>"
     },
     "metadata": {},
     "execution_count": 3
    }
   ],
   "source": [
    "base_df = pd.read_csv(basedataset_path)\n",
    "base_df.head()"
   ]
  },
  {
   "cell_type": "code",
   "execution_count": 4,
   "metadata": {},
   "outputs": [
    {
     "output_type": "stream",
     "name": "stdout",
     "text": [
      "<class 'pandas.core.frame.DataFrame'>\nRangeIndex: 225745 entries, 0 to 225744\nData columns (total 79 columns):\n #   Column                        Non-Null Count   Dtype  \n---  ------                        --------------   -----  \n 0    Destination Port             225745 non-null  int64  \n 1    Flow Duration                225745 non-null  int64  \n 2    Total Fwd Packets            225745 non-null  int64  \n 3    Total Backward Packets       225745 non-null  int64  \n 4   Total Length of Fwd Packets   225745 non-null  int64  \n 5    Total Length of Bwd Packets  225745 non-null  int64  \n 6    Fwd Packet Length Max        225745 non-null  int64  \n 7    Fwd Packet Length Min        225745 non-null  int64  \n 8    Fwd Packet Length Mean       225745 non-null  float64\n 9    Fwd Packet Length Std        225745 non-null  float64\n 10  Bwd Packet Length Max         225745 non-null  int64  \n 11   Bwd Packet Length Min        225745 non-null  int64  \n 12   Bwd Packet Length Mean       225745 non-null  float64\n 13   Bwd Packet Length Std        225745 non-null  float64\n 14  Flow Bytes/s                  225741 non-null  float64\n 15   Flow Packets/s               225745 non-null  float64\n 16   Flow IAT Mean                225745 non-null  float64\n 17   Flow IAT Std                 225745 non-null  float64\n 18   Flow IAT Max                 225745 non-null  int64  \n 19   Flow IAT Min                 225745 non-null  int64  \n 20  Fwd IAT Total                 225745 non-null  int64  \n 21   Fwd IAT Mean                 225745 non-null  float64\n 22   Fwd IAT Std                  225745 non-null  float64\n 23   Fwd IAT Max                  225745 non-null  int64  \n 24   Fwd IAT Min                  225745 non-null  int64  \n 25  Bwd IAT Total                 225745 non-null  int64  \n 26   Bwd IAT Mean                 225745 non-null  float64\n 27   Bwd IAT Std                  225745 non-null  float64\n 28   Bwd IAT Max                  225745 non-null  int64  \n 29   Bwd IAT Min                  225745 non-null  int64  \n 30  Fwd PSH Flags                 225745 non-null  int64  \n 31   Bwd PSH Flags                225745 non-null  int64  \n 32   Fwd URG Flags                225745 non-null  int64  \n 33   Bwd URG Flags                225745 non-null  int64  \n 34   Fwd Header Length            225745 non-null  int64  \n 35   Bwd Header Length            225745 non-null  int64  \n 36  Fwd Packets/s                 225745 non-null  float64\n 37   Bwd Packets/s                225745 non-null  float64\n 38   Min Packet Length            225745 non-null  int64  \n 39   Max Packet Length            225745 non-null  int64  \n 40   Packet Length Mean           225745 non-null  float64\n 41   Packet Length Std            225745 non-null  float64\n 42   Packet Length Variance       225745 non-null  float64\n 43  FIN Flag Count                225745 non-null  int64  \n 44   SYN Flag Count               225745 non-null  int64  \n 45   RST Flag Count               225745 non-null  int64  \n 46   PSH Flag Count               225745 non-null  int64  \n 47   ACK Flag Count               225745 non-null  int64  \n 48   URG Flag Count               225745 non-null  int64  \n 49   CWE Flag Count               225745 non-null  int64  \n 50   ECE Flag Count               225745 non-null  int64  \n 51   Down/Up Ratio                225745 non-null  int64  \n 52   Average Packet Size          225745 non-null  float64\n 53   Avg Fwd Segment Size         225745 non-null  float64\n 54   Avg Bwd Segment Size         225745 non-null  float64\n 55   Fwd Header Length.1          225745 non-null  int64  \n 56  Fwd Avg Bytes/Bulk            225745 non-null  int64  \n 57   Fwd Avg Packets/Bulk         225745 non-null  int64  \n 58   Fwd Avg Bulk Rate            225745 non-null  int64  \n 59   Bwd Avg Bytes/Bulk           225745 non-null  int64  \n 60   Bwd Avg Packets/Bulk         225745 non-null  int64  \n 61  Bwd Avg Bulk Rate             225745 non-null  int64  \n 62  Subflow Fwd Packets           225745 non-null  int64  \n 63   Subflow Fwd Bytes            225745 non-null  int64  \n 64   Subflow Bwd Packets          225745 non-null  int64  \n 65   Subflow Bwd Bytes            225745 non-null  int64  \n 66  Init_Win_bytes_forward        225745 non-null  int64  \n 67   Init_Win_bytes_backward      225745 non-null  int64  \n 68   act_data_pkt_fwd             225745 non-null  int64  \n 69   min_seg_size_forward         225745 non-null  int64  \n 70  Active Mean                   225745 non-null  float64\n 71   Active Std                   225745 non-null  float64\n 72   Active Max                   225745 non-null  int64  \n 73   Active Min                   225745 non-null  int64  \n 74  Idle Mean                     225745 non-null  float64\n 75   Idle Std                     225745 non-null  float64\n 76   Idle Max                     225745 non-null  int64  \n 77   Idle Min                     225745 non-null  int64  \n 78   Label                        225745 non-null  object \ndtypes: float64(24), int64(54), object(1)\nmemory usage: 136.1+ MB\n"
     ]
    }
   ],
   "source": [
    "base_df.info()"
   ]
  },
  {
   "cell_type": "code",
   "execution_count": 5,
   "metadata": {},
   "outputs": [
    {
     "output_type": "execute_result",
     "data": {
      "text/plain": [
       "0"
      ]
     },
     "metadata": {},
     "execution_count": 5
    }
   ],
   "source": [
    "# There exists a repeated column in the base dataset\n",
    "(base_df[' Fwd Header Length'] != base_df[' Fwd Header Length.1']).sum()"
   ]
  },
  {
   "cell_type": "code",
   "execution_count": 6,
   "metadata": {},
   "outputs": [],
   "source": [
    "# Remove unnecessary column\n",
    "base_df.drop(' Fwd Header Length.1', axis=1, inplace=True)"
   ]
  },
  {
   "source": [
    "### Company's dataset"
   ],
   "cell_type": "markdown",
   "metadata": {}
  },
  {
   "cell_type": "code",
   "execution_count": 7,
   "metadata": {},
   "outputs": [
    {
     "output_type": "execute_result",
     "data": {
      "text/plain": [
       "                                      Flow ID           Src IP  Src Port  \\\n",
       "0    192.168.100.169-224.0.0.251-5353-5353-17  192.168.100.169      5353   \n",
       "1   192.168.100.62-142.250.181.65-46494-443-6   192.168.100.62     46494   \n",
       "2   192.168.100.62-142.250.200.99-58368-443-6   192.168.100.62     58368   \n",
       "3  108.177.15.189-192.168.100.62-443-39282-17   108.177.15.189       443   \n",
       "4   192.168.100.62-151.101.12.193-49296-443-6   192.168.100.62     49296   \n",
       "\n",
       "           Dst IP  Dst Port  Protocol               Timestamp  Flow Duration  \\\n",
       "0     224.0.0.251      5353        17  23/05/2021 03:35:34 PM       45436508   \n",
       "1  142.250.181.65       443         6  23/05/2021 03:35:33 PM          55690   \n",
       "2  142.250.200.99       443         6  23/05/2021 03:35:34 PM         171127   \n",
       "3  192.168.100.62     39282        17  23/05/2021 03:35:41 PM       38458246   \n",
       "4  151.101.12.193       443         6  23/05/2021 03:35:32 PM          96223   \n",
       "\n",
       "   Total Fwd Packet  Total Bwd packets  ...  Fwd Seg Size Min   Active Mean  \\\n",
       "0                 5                  0  ...                 8  1.326775e+06   \n",
       "1                 2                  2  ...                32  0.000000e+00   \n",
       "2                 2                  2  ...                32  0.000000e+00   \n",
       "3                10                  7  ...                 8  4.435683e+05   \n",
       "4                 2                  2  ...                32  0.000000e+00   \n",
       "\n",
       "      Active Std  Active Max  Active Min     Idle Mean      Idle Std  \\\n",
       "0       0.000000   1326775.0   1326775.0  5.405911e+14  9.363313e+14   \n",
       "1       0.000000         0.0         0.0  1.621773e+15  0.000000e+00   \n",
       "2       0.000000         0.0         0.0  1.621773e+15  0.000000e+00   \n",
       "3  732280.485615   1289133.0     20712.0  4.054433e+14  8.108867e+14   \n",
       "4       0.000000         0.0         0.0  1.621773e+15  0.000000e+00   \n",
       "\n",
       "       Idle Max      Idle Min            Label  \n",
       "0  1.621773e+15  1.967143e+07  NeedManualLabel  \n",
       "1  1.621773e+15  1.621773e+15  NeedManualLabel  \n",
       "2  1.621773e+15  1.621773e+15  NeedManualLabel  \n",
       "3  1.621773e+15  9.134783e+06  NeedManualLabel  \n",
       "4  1.621773e+15  1.621773e+15  NeedManualLabel  \n",
       "\n",
       "[5 rows x 84 columns]"
      ],
      "text/html": "<div>\n<style scoped>\n    .dataframe tbody tr th:only-of-type {\n        vertical-align: middle;\n    }\n\n    .dataframe tbody tr th {\n        vertical-align: top;\n    }\n\n    .dataframe thead th {\n        text-align: right;\n    }\n</style>\n<table border=\"1\" class=\"dataframe\">\n  <thead>\n    <tr style=\"text-align: right;\">\n      <th></th>\n      <th>Flow ID</th>\n      <th>Src IP</th>\n      <th>Src Port</th>\n      <th>Dst IP</th>\n      <th>Dst Port</th>\n      <th>Protocol</th>\n      <th>Timestamp</th>\n      <th>Flow Duration</th>\n      <th>Total Fwd Packet</th>\n      <th>Total Bwd packets</th>\n      <th>...</th>\n      <th>Fwd Seg Size Min</th>\n      <th>Active Mean</th>\n      <th>Active Std</th>\n      <th>Active Max</th>\n      <th>Active Min</th>\n      <th>Idle Mean</th>\n      <th>Idle Std</th>\n      <th>Idle Max</th>\n      <th>Idle Min</th>\n      <th>Label</th>\n    </tr>\n  </thead>\n  <tbody>\n    <tr>\n      <th>0</th>\n      <td>192.168.100.169-224.0.0.251-5353-5353-17</td>\n      <td>192.168.100.169</td>\n      <td>5353</td>\n      <td>224.0.0.251</td>\n      <td>5353</td>\n      <td>17</td>\n      <td>23/05/2021 03:35:34 PM</td>\n      <td>45436508</td>\n      <td>5</td>\n      <td>0</td>\n      <td>...</td>\n      <td>8</td>\n      <td>1.326775e+06</td>\n      <td>0.000000</td>\n      <td>1326775.0</td>\n      <td>1326775.0</td>\n      <td>5.405911e+14</td>\n      <td>9.363313e+14</td>\n      <td>1.621773e+15</td>\n      <td>1.967143e+07</td>\n      <td>NeedManualLabel</td>\n    </tr>\n    <tr>\n      <th>1</th>\n      <td>192.168.100.62-142.250.181.65-46494-443-6</td>\n      <td>192.168.100.62</td>\n      <td>46494</td>\n      <td>142.250.181.65</td>\n      <td>443</td>\n      <td>6</td>\n      <td>23/05/2021 03:35:33 PM</td>\n      <td>55690</td>\n      <td>2</td>\n      <td>2</td>\n      <td>...</td>\n      <td>32</td>\n      <td>0.000000e+00</td>\n      <td>0.000000</td>\n      <td>0.0</td>\n      <td>0.0</td>\n      <td>1.621773e+15</td>\n      <td>0.000000e+00</td>\n      <td>1.621773e+15</td>\n      <td>1.621773e+15</td>\n      <td>NeedManualLabel</td>\n    </tr>\n    <tr>\n      <th>2</th>\n      <td>192.168.100.62-142.250.200.99-58368-443-6</td>\n      <td>192.168.100.62</td>\n      <td>58368</td>\n      <td>142.250.200.99</td>\n      <td>443</td>\n      <td>6</td>\n      <td>23/05/2021 03:35:34 PM</td>\n      <td>171127</td>\n      <td>2</td>\n      <td>2</td>\n      <td>...</td>\n      <td>32</td>\n      <td>0.000000e+00</td>\n      <td>0.000000</td>\n      <td>0.0</td>\n      <td>0.0</td>\n      <td>1.621773e+15</td>\n      <td>0.000000e+00</td>\n      <td>1.621773e+15</td>\n      <td>1.621773e+15</td>\n      <td>NeedManualLabel</td>\n    </tr>\n    <tr>\n      <th>3</th>\n      <td>108.177.15.189-192.168.100.62-443-39282-17</td>\n      <td>108.177.15.189</td>\n      <td>443</td>\n      <td>192.168.100.62</td>\n      <td>39282</td>\n      <td>17</td>\n      <td>23/05/2021 03:35:41 PM</td>\n      <td>38458246</td>\n      <td>10</td>\n      <td>7</td>\n      <td>...</td>\n      <td>8</td>\n      <td>4.435683e+05</td>\n      <td>732280.485615</td>\n      <td>1289133.0</td>\n      <td>20712.0</td>\n      <td>4.054433e+14</td>\n      <td>8.108867e+14</td>\n      <td>1.621773e+15</td>\n      <td>9.134783e+06</td>\n      <td>NeedManualLabel</td>\n    </tr>\n    <tr>\n      <th>4</th>\n      <td>192.168.100.62-151.101.12.193-49296-443-6</td>\n      <td>192.168.100.62</td>\n      <td>49296</td>\n      <td>151.101.12.193</td>\n      <td>443</td>\n      <td>6</td>\n      <td>23/05/2021 03:35:32 PM</td>\n      <td>96223</td>\n      <td>2</td>\n      <td>2</td>\n      <td>...</td>\n      <td>32</td>\n      <td>0.000000e+00</td>\n      <td>0.000000</td>\n      <td>0.0</td>\n      <td>0.0</td>\n      <td>1.621773e+15</td>\n      <td>0.000000e+00</td>\n      <td>1.621773e+15</td>\n      <td>1.621773e+15</td>\n      <td>NeedManualLabel</td>\n    </tr>\n  </tbody>\n</table>\n<p>5 rows × 84 columns</p>\n</div>"
     },
     "metadata": {},
     "execution_count": 7
    }
   ],
   "source": [
    "own_df = pd.read_csv(owndataset_path)\n",
    "own_df.head()"
   ]
  },
  {
   "cell_type": "code",
   "execution_count": 8,
   "metadata": {},
   "outputs": [
    {
     "output_type": "stream",
     "name": "stdout",
     "text": [
      "<class 'pandas.core.frame.DataFrame'>\nRangeIndex: 24 entries, 0 to 23\nData columns (total 84 columns):\n #   Column                      Non-Null Count  Dtype  \n---  ------                      --------------  -----  \n 0   Flow ID                     24 non-null     object \n 1   Src IP                      24 non-null     object \n 2   Src Port                    24 non-null     int64  \n 3   Dst IP                      24 non-null     object \n 4   Dst Port                    24 non-null     int64  \n 5   Protocol                    24 non-null     int64  \n 6   Timestamp                   24 non-null     object \n 7   Flow Duration               24 non-null     int64  \n 8   Total Fwd Packet            24 non-null     int64  \n 9   Total Bwd packets           24 non-null     int64  \n 10  Total Length of Fwd Packet  24 non-null     float64\n 11  Total Length of Bwd Packet  24 non-null     float64\n 12  Fwd Packet Length Max       24 non-null     float64\n 13  Fwd Packet Length Min       24 non-null     float64\n 14  Fwd Packet Length Mean      24 non-null     float64\n 15  Fwd Packet Length Std       24 non-null     float64\n 16  Bwd Packet Length Max       24 non-null     float64\n 17  Bwd Packet Length Min       24 non-null     float64\n 18  Bwd Packet Length Mean      24 non-null     float64\n 19  Bwd Packet Length Std       24 non-null     float64\n 20  Flow Bytes/s                24 non-null     float64\n 21  Flow Packets/s              24 non-null     float64\n 22  Flow IAT Mean               24 non-null     float64\n 23  Flow IAT Std                24 non-null     float64\n 24  Flow IAT Max                24 non-null     float64\n 25  Flow IAT Min                24 non-null     float64\n 26  Fwd IAT Total               24 non-null     float64\n 27  Fwd IAT Mean                24 non-null     float64\n 28  Fwd IAT Std                 24 non-null     float64\n 29  Fwd IAT Max                 24 non-null     float64\n 30  Fwd IAT Min                 24 non-null     float64\n 31  Bwd IAT Total               24 non-null     float64\n 32  Bwd IAT Mean                24 non-null     float64\n 33  Bwd IAT Std                 24 non-null     float64\n 34  Bwd IAT Max                 24 non-null     float64\n 35  Bwd IAT Min                 24 non-null     float64\n 36  Fwd PSH Flags               24 non-null     int64  \n 37  Bwd PSH Flags               24 non-null     int64  \n 38  Fwd URG Flags               24 non-null     int64  \n 39  Bwd URG Flags               24 non-null     int64  \n 40  Fwd Header Length           24 non-null     int64  \n 41  Bwd Header Length           24 non-null     int64  \n 42  Fwd Packets/s               24 non-null     float64\n 43  Bwd Packets/s               24 non-null     float64\n 44  Packet Length Min           24 non-null     float64\n 45  Packet Length Max           24 non-null     float64\n 46  Packet Length Mean          24 non-null     float64\n 47  Packet Length Std           24 non-null     float64\n 48  Packet Length Variance      24 non-null     float64\n 49  FIN Flag Count              24 non-null     int64  \n 50  SYN Flag Count              24 non-null     int64  \n 51  RST Flag Count              24 non-null     int64  \n 52  PSH Flag Count              24 non-null     int64  \n 53  ACK Flag Count              24 non-null     int64  \n 54  URG Flag Count              24 non-null     int64  \n 55  CWR Flag Count              24 non-null     int64  \n 56  ECE Flag Count              24 non-null     int64  \n 57  Down/Up Ratio               24 non-null     float64\n 58  Average Packet Size         24 non-null     float64\n 59  Fwd Segment Size Avg        24 non-null     float64\n 60  Bwd Segment Size Avg        24 non-null     float64\n 61  Fwd Bytes/Bulk Avg          24 non-null     int64  \n 62  Fwd Packet/Bulk Avg         24 non-null     int64  \n 63  Fwd Bulk Rate Avg           24 non-null     int64  \n 64  Bwd Bytes/Bulk Avg          24 non-null     int64  \n 65  Bwd Packet/Bulk Avg         24 non-null     int64  \n 66  Bwd Bulk Rate Avg           24 non-null     int64  \n 67  Subflow Fwd Packets         24 non-null     int64  \n 68  Subflow Fwd Bytes           24 non-null     int64  \n 69  Subflow Bwd Packets         24 non-null     int64  \n 70  Subflow Bwd Bytes           24 non-null     int64  \n 71  FWD Init Win Bytes          24 non-null     int64  \n 72  Bwd Init Win Bytes          24 non-null     int64  \n 73  Fwd Act Data Pkts           24 non-null     int64  \n 74  Fwd Seg Size Min            24 non-null     int64  \n 75  Active Mean                 24 non-null     float64\n 76  Active Std                  24 non-null     float64\n 77  Active Max                  24 non-null     float64\n 78  Active Min                  24 non-null     float64\n 79  Idle Mean                   24 non-null     float64\n 80  Idle Std                    24 non-null     float64\n 81  Idle Max                    24 non-null     float64\n 82  Idle Min                    24 non-null     float64\n 83  Label                       24 non-null     object \ndtypes: float64(45), int64(34), object(5)\nmemory usage: 15.9+ KB\n"
     ]
    }
   ],
   "source": [
    "own_df.info()"
   ]
  },
  {
   "source": [
    "We are going to use our own dataset as the absolute reference for the column names"
   ],
   "cell_type": "markdown",
   "metadata": {}
  },
  {
   "source": [
    "### Comparison"
   ],
   "cell_type": "markdown",
   "metadata": {}
  },
  {
   "cell_type": "code",
   "execution_count": 9,
   "metadata": {},
   "outputs": [
    {
     "output_type": "stream",
     "name": "stdout",
     "text": [
      "Index([' Destination Port', ' Flow Duration', ' Total Fwd Packets',\n       ' Total Backward Packets', 'Total Length of Fwd Packets',\n       ' Total Length of Bwd Packets', ' Fwd Packet Length Max',\n       ' Fwd Packet Length Min', ' Fwd Packet Length Mean',\n       ' Fwd Packet Length Std', 'Bwd Packet Length Max',\n       ' Bwd Packet Length Min', ' Bwd Packet Length Mean',\n       ' Bwd Packet Length Std', 'Flow Bytes/s', ' Flow Packets/s',\n       ' Flow IAT Mean', ' Flow IAT Std', ' Flow IAT Max', ' Flow IAT Min',\n       'Fwd IAT Total', ' Fwd IAT Mean', ' Fwd IAT Std', ' Fwd IAT Max',\n       ' Fwd IAT Min', 'Bwd IAT Total', ' Bwd IAT Mean', ' Bwd IAT Std',\n       ' Bwd IAT Max', ' Bwd IAT Min', 'Fwd PSH Flags', ' Bwd PSH Flags',\n       ' Fwd URG Flags', ' Bwd URG Flags', ' Fwd Header Length',\n       ' Bwd Header Length', 'Fwd Packets/s', ' Bwd Packets/s',\n       ' Min Packet Length', ' Max Packet Length', ' Packet Length Mean',\n       ' Packet Length Std', ' Packet Length Variance', 'FIN Flag Count',\n       ' SYN Flag Count', ' RST Flag Count', ' PSH Flag Count',\n       ' ACK Flag Count', ' URG Flag Count', ' CWE Flag Count',\n       ' ECE Flag Count', ' Down/Up Ratio', ' Average Packet Size',\n       ' Avg Fwd Segment Size', ' Avg Bwd Segment Size', 'Fwd Avg Bytes/Bulk',\n       ' Fwd Avg Packets/Bulk', ' Fwd Avg Bulk Rate', ' Bwd Avg Bytes/Bulk',\n       ' Bwd Avg Packets/Bulk', 'Bwd Avg Bulk Rate', 'Subflow Fwd Packets',\n       ' Subflow Fwd Bytes', ' Subflow Bwd Packets', ' Subflow Bwd Bytes',\n       'Init_Win_bytes_forward', ' Init_Win_bytes_backward',\n       ' act_data_pkt_fwd', ' min_seg_size_forward', 'Active Mean',\n       ' Active Std', ' Active Max', ' Active Min', 'Idle Mean', ' Idle Std',\n       ' Idle Max', ' Idle Min', ' Label'],\n      dtype='object')\nIndex(['Flow ID', 'Src IP', 'Src Port', 'Dst IP', 'Dst Port', 'Protocol',\n       'Timestamp', 'Flow Duration', 'Total Fwd Packet', 'Total Bwd packets',\n       'Total Length of Fwd Packet', 'Total Length of Bwd Packet',\n       'Fwd Packet Length Max', 'Fwd Packet Length Min',\n       'Fwd Packet Length Mean', 'Fwd Packet Length Std',\n       'Bwd Packet Length Max', 'Bwd Packet Length Min',\n       'Bwd Packet Length Mean', 'Bwd Packet Length Std', 'Flow Bytes/s',\n       'Flow Packets/s', 'Flow IAT Mean', 'Flow IAT Std', 'Flow IAT Max',\n       'Flow IAT Min', 'Fwd IAT Total', 'Fwd IAT Mean', 'Fwd IAT Std',\n       'Fwd IAT Max', 'Fwd IAT Min', 'Bwd IAT Total', 'Bwd IAT Mean',\n       'Bwd IAT Std', 'Bwd IAT Max', 'Bwd IAT Min', 'Fwd PSH Flags',\n       'Bwd PSH Flags', 'Fwd URG Flags', 'Bwd URG Flags', 'Fwd Header Length',\n       'Bwd Header Length', 'Fwd Packets/s', 'Bwd Packets/s',\n       'Packet Length Min', 'Packet Length Max', 'Packet Length Mean',\n       'Packet Length Std', 'Packet Length Variance', 'FIN Flag Count',\n       'SYN Flag Count', 'RST Flag Count', 'PSH Flag Count', 'ACK Flag Count',\n       'URG Flag Count', 'CWR Flag Count', 'ECE Flag Count', 'Down/Up Ratio',\n       'Average Packet Size', 'Fwd Segment Size Avg', 'Bwd Segment Size Avg',\n       'Fwd Bytes/Bulk Avg', 'Fwd Packet/Bulk Avg', 'Fwd Bulk Rate Avg',\n       'Bwd Bytes/Bulk Avg', 'Bwd Packet/Bulk Avg', 'Bwd Bulk Rate Avg',\n       'Subflow Fwd Packets', 'Subflow Fwd Bytes', 'Subflow Bwd Packets',\n       'Subflow Bwd Bytes', 'FWD Init Win Bytes', 'Bwd Init Win Bytes',\n       'Fwd Act Data Pkts', 'Fwd Seg Size Min', 'Active Mean', 'Active Std',\n       'Active Max', 'Active Min', 'Idle Mean', 'Idle Std', 'Idle Max',\n       'Idle Min', 'Label'],\n      dtype='object')\n"
     ]
    }
   ],
   "source": [
    "print(base_df.columns)\n",
    "print(own_df.columns)"
   ]
  },
  {
   "cell_type": "code",
   "execution_count": 10,
   "metadata": {},
   "outputs": [
    {
     "output_type": "stream",
     "name": "stdout",
     "text": [
      "Number of Base Dataset Columns: 78\nNumber of Own Dataset Columns: 84\n"
     ]
    }
   ],
   "source": [
    "# Before processing columns\n",
    "print(\"Number of Base Dataset Columns:\", len(base_df.columns))\n",
    "print(\"Number of Own Dataset Columns:\", len(own_df.columns))"
   ]
  },
  {
   "cell_type": "code",
   "execution_count": 11,
   "metadata": {},
   "outputs": [
    {
     "output_type": "stream",
     "name": "stdout",
     "text": [
      "These are the fields in our own dataset that we need to retain :\n {'Protocol', 'Src Port', 'Dst IP', 'Src IP', 'Flow ID', 'Timestamp'} \n\n"
     ]
    }
   ],
   "source": [
    "# Replace the column names within the Base Dataset\n",
    "\n",
    "corrected_column_names = {'Avg Bwd Segment Size': 'Bwd Segment Size Avg',\n",
    " 'Avg Fwd Segment Size': 'Fwd Segment Size Avg',\n",
    " 'Bwd Avg Bulk Rate': 'Bwd Bulk Rate Avg',\n",
    " 'Bwd Avg Bytes/Bulk': 'Bwd Bytes/Bulk Avg',\n",
    " 'Bwd Avg Packets/Bulk': 'Bwd Packet/Bulk Avg',\n",
    " 'CWE Flag Count': 'CWR Flag Count', ## Based on a guess\n",
    " 'Destination Port': 'Dst Port',\n",
    " 'Fwd Avg Bulk Rate': 'Fwd Bulk Rate Avg',\n",
    " 'Fwd Avg Bytes/Bulk': 'Fwd Bytes/Bulk Avg',\n",
    " 'Fwd Avg Packets/Bulk': 'Fwd Packet/Bulk Avg',\n",
    " 'Fwd Header Length.1': 'Fwd Header Length',\n",
    " 'Init_Win_bytes_backward': 'Bwd Init Win Bytes',\n",
    " 'Init_Win_bytes_forward': 'FWD Init Win Bytes' ,\n",
    " 'Max Packet Length':  'Packet Length Max',\n",
    " 'Min Packet Length': 'Packet Length Min',\n",
    " 'Total Backward Packets': 'Total Bwd packets',\n",
    " 'Total Fwd Packets': 'Total Fwd Packet',\n",
    " 'Total Length of Bwd Packets': 'Total Length of Bwd Packet',\n",
    " 'Total Length of Fwd Packets': 'Total Length of Fwd Packet',\n",
    " 'act_data_pkt_fwd': 'Fwd Act Data Pkts',\n",
    " 'min_seg_size_forward': 'Fwd Seg Size Min'}\n",
    "\n",
    "replace_func = lambda old_name: corrected_column_names.get(old_name, old_name)\n",
    "\n",
    "basecols = base_df.columns.map(lambda x: replace_func(x.strip()))\n",
    "baseset = set(basecols)\n",
    "\n",
    "ownset = set(own_df.columns)\n",
    "\n",
    "print(\"These are the fields in our own dataset that we need to retain :\\n\", ownset - baseset, \"\\n\")"
   ]
  },
  {
   "cell_type": "code",
   "execution_count": 13,
   "metadata": {},
   "outputs": [
    {
     "output_type": "execute_result",
     "data": {
      "text/plain": [
       "set()"
      ]
     },
     "metadata": {},
     "execution_count": 13
    }
   ],
   "source": []
  },
  {
   "cell_type": "code",
   "execution_count": null,
   "metadata": {},
   "outputs": [],
   "source": []
  },
  {
   "cell_type": "code",
   "execution_count": null,
   "metadata": {},
   "outputs": [],
   "source": []
  },
  {
   "cell_type": "code",
   "execution_count": null,
   "metadata": {},
   "outputs": [],
   "source": []
  },
  {
   "cell_type": "code",
   "execution_count": null,
   "metadata": {},
   "outputs": [],
   "source": []
  },
  {
   "cell_type": "code",
   "execution_count": null,
   "metadata": {},
   "outputs": [],
   "source": []
  },
  {
   "cell_type": "code",
   "execution_count": null,
   "metadata": {},
   "outputs": [],
   "source": []
  },
  {
   "cell_type": "code",
   "execution_count": null,
   "metadata": {},
   "outputs": [],
   "source": []
  },
  {
   "cell_type": "code",
   "execution_count": null,
   "metadata": {},
   "outputs": [],
   "source": []
  },
  {
   "cell_type": "code",
   "execution_count": null,
   "metadata": {},
   "outputs": [],
   "source": []
  },
  {
   "cell_type": "code",
   "execution_count": null,
   "metadata": {},
   "outputs": [],
   "source": []
  }
 ],
 "metadata": {
  "kernelspec": {
   "display_name": "Python 3",
   "language": "python",
   "name": "python3"
  },
  "language_info": {
   "codemirror_mode": {
    "name": "ipython",
    "version": 3
   },
   "file_extension": ".py",
   "mimetype": "text/x-python",
   "name": "python",
   "nbconvert_exporter": "python",
   "pygments_lexer": "ipython3",
   "version": "3.8.5"
  }
 },
 "nbformat": 4,
 "nbformat_minor": 5
}