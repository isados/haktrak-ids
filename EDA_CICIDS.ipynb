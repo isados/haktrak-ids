{
 "cells": [
  {
   "source": [
    "## Setup"
   ],
   "cell_type": "markdown",
   "metadata": {}
  },
  {
   "cell_type": "code",
   "execution_count": 2,
   "id": "39d70b9c",
   "metadata": {},
   "outputs": [],
   "source": [
    "import json as js\n",
    "import pandas as pd\n",
    "import numpy as np\n",
    "from pprint import pprint\n",
    "from utilities import get_configs\n",
    "%matplotlib inline"
   ]
  },
  {
   "cell_type": "code",
   "execution_count": 6,
   "metadata": {},
   "outputs": [],
   "source": [
    "# Paths\n",
    "configvars = get_configs()\n",
    "basedataset_path = configvars['BaseDataset']['2018']\n",
    "owndataset_path = configvars['CompanyDataset']['fullsize']"
   ]
  },
  {
   "source": [
    "## Read datasets"
   ],
   "cell_type": "markdown",
   "metadata": {}
  },
  {
   "cell_type": "code",
   "execution_count": 7,
   "id": "443cdb7d",
   "metadata": {},
   "outputs": [
    {
     "output_type": "execute_result",
     "data": {
      "text/plain": [
       "   Dst Port  Protocol            Timestamp  Flow Duration  Tot Fwd Pkts  \\\n",
       "0        80         6  21/02/2018 08:33:25          37953             5   \n",
       "1       500        17  21/02/2018 08:33:06      117573474             3   \n",
       "2       500        17  21/02/2018 08:33:06      117573474             3   \n",
       "3       500        17  21/02/2018 08:33:11       99743998             5   \n",
       "4       500        17  21/02/2018 08:33:11       99743999             5   \n",
       "\n",
       "   Tot Bwd Pkts  TotLen Fwd Pkts  TotLen Bwd Pkts  Fwd Pkt Len Max  \\\n",
       "0             3              135              127              135   \n",
       "1             0             1500                0              500   \n",
       "2             0             1500                0              500   \n",
       "3             0             2500                0              500   \n",
       "4             0             2500                0              500   \n",
       "\n",
       "   Fwd Pkt Len Min  ...  Fwd Seg Size Min  Active Mean  Active Std  \\\n",
       "0                0  ...                32          0.0         0.0   \n",
       "1              500  ...                 8          0.0         0.0   \n",
       "2              500  ...                 8          0.0         0.0   \n",
       "3              500  ...                 8    4000290.0         0.0   \n",
       "4              500  ...                 8    4000286.0         0.0   \n",
       "\n",
       "   Active Max  Active Min   Idle Mean    Idle Std  Idle Max  Idle Min   Label  \n",
       "0           0           0         0.0         0.0         0         0  Benign  \n",
       "1           0           0  58800000.0  23800000.0  75600000  42000000  Benign  \n",
       "2           0           0  58800000.0  23800000.0  75600000  42000000  Benign  \n",
       "3     4000290     4000290  31900000.0  37900000.0  75600000   7200397  Benign  \n",
       "4     4000286     4000286  31900000.0  37900000.0  75600000   7200399  Benign  \n",
       "\n",
       "[5 rows x 80 columns]"
      ],
      "text/html": "<div>\n<style scoped>\n    .dataframe tbody tr th:only-of-type {\n        vertical-align: middle;\n    }\n\n    .dataframe tbody tr th {\n        vertical-align: top;\n    }\n\n    .dataframe thead th {\n        text-align: right;\n    }\n</style>\n<table border=\"1\" class=\"dataframe\">\n  <thead>\n    <tr style=\"text-align: right;\">\n      <th></th>\n      <th>Dst Port</th>\n      <th>Protocol</th>\n      <th>Timestamp</th>\n      <th>Flow Duration</th>\n      <th>Tot Fwd Pkts</th>\n      <th>Tot Bwd Pkts</th>\n      <th>TotLen Fwd Pkts</th>\n      <th>TotLen Bwd Pkts</th>\n      <th>Fwd Pkt Len Max</th>\n      <th>Fwd Pkt Len Min</th>\n      <th>...</th>\n      <th>Fwd Seg Size Min</th>\n      <th>Active Mean</th>\n      <th>Active Std</th>\n      <th>Active Max</th>\n      <th>Active Min</th>\n      <th>Idle Mean</th>\n      <th>Idle Std</th>\n      <th>Idle Max</th>\n      <th>Idle Min</th>\n      <th>Label</th>\n    </tr>\n  </thead>\n  <tbody>\n    <tr>\n      <th>0</th>\n      <td>80</td>\n      <td>6</td>\n      <td>21/02/2018 08:33:25</td>\n      <td>37953</td>\n      <td>5</td>\n      <td>3</td>\n      <td>135</td>\n      <td>127</td>\n      <td>135</td>\n      <td>0</td>\n      <td>...</td>\n      <td>32</td>\n      <td>0.0</td>\n      <td>0.0</td>\n      <td>0</td>\n      <td>0</td>\n      <td>0.0</td>\n      <td>0.0</td>\n      <td>0</td>\n      <td>0</td>\n      <td>Benign</td>\n    </tr>\n    <tr>\n      <th>1</th>\n      <td>500</td>\n      <td>17</td>\n      <td>21/02/2018 08:33:06</td>\n      <td>117573474</td>\n      <td>3</td>\n      <td>0</td>\n      <td>1500</td>\n      <td>0</td>\n      <td>500</td>\n      <td>500</td>\n      <td>...</td>\n      <td>8</td>\n      <td>0.0</td>\n      <td>0.0</td>\n      <td>0</td>\n      <td>0</td>\n      <td>58800000.0</td>\n      <td>23800000.0</td>\n      <td>75600000</td>\n      <td>42000000</td>\n      <td>Benign</td>\n    </tr>\n    <tr>\n      <th>2</th>\n      <td>500</td>\n      <td>17</td>\n      <td>21/02/2018 08:33:06</td>\n      <td>117573474</td>\n      <td>3</td>\n      <td>0</td>\n      <td>1500</td>\n      <td>0</td>\n      <td>500</td>\n      <td>500</td>\n      <td>...</td>\n      <td>8</td>\n      <td>0.0</td>\n      <td>0.0</td>\n      <td>0</td>\n      <td>0</td>\n      <td>58800000.0</td>\n      <td>23800000.0</td>\n      <td>75600000</td>\n      <td>42000000</td>\n      <td>Benign</td>\n    </tr>\n    <tr>\n      <th>3</th>\n      <td>500</td>\n      <td>17</td>\n      <td>21/02/2018 08:33:11</td>\n      <td>99743998</td>\n      <td>5</td>\n      <td>0</td>\n      <td>2500</td>\n      <td>0</td>\n      <td>500</td>\n      <td>500</td>\n      <td>...</td>\n      <td>8</td>\n      <td>4000290.0</td>\n      <td>0.0</td>\n      <td>4000290</td>\n      <td>4000290</td>\n      <td>31900000.0</td>\n      <td>37900000.0</td>\n      <td>75600000</td>\n      <td>7200397</td>\n      <td>Benign</td>\n    </tr>\n    <tr>\n      <th>4</th>\n      <td>500</td>\n      <td>17</td>\n      <td>21/02/2018 08:33:11</td>\n      <td>99743999</td>\n      <td>5</td>\n      <td>0</td>\n      <td>2500</td>\n      <td>0</td>\n      <td>500</td>\n      <td>500</td>\n      <td>...</td>\n      <td>8</td>\n      <td>4000286.0</td>\n      <td>0.0</td>\n      <td>4000286</td>\n      <td>4000286</td>\n      <td>31900000.0</td>\n      <td>37900000.0</td>\n      <td>75600000</td>\n      <td>7200399</td>\n      <td>Benign</td>\n    </tr>\n  </tbody>\n</table>\n<p>5 rows × 80 columns</p>\n</div>"
     },
     "metadata": {},
     "execution_count": 7
    }
   ],
   "source": [
    "base_df = pd.read_csv(basedataset_path)\n",
    "base_df.head()"
   ]
  },
  {
   "cell_type": "code",
   "execution_count": 8,
   "metadata": {},
   "outputs": [
    {
     "output_type": "execute_result",
     "data": {
      "text/plain": [
       "                                     Flow ID          Src IP Src Port  \\\n",
       "0   44.238.190.78-192.168.100.62-443-34200-6   44.238.190.78      443   \n",
       "1  192.168.100.62-35.186.220.184-41372-443-6  192.168.100.62    41372   \n",
       "2  35.186.220.184-192.168.100.62-443-41372-6  35.186.220.184      443   \n",
       "3  192.168.100.62-74.125.140.189-43972-443-6  192.168.100.62    43972   \n",
       "4  74.125.140.189-192.168.100.62-443-43972-6  74.125.140.189      443   \n",
       "\n",
       "           Dst IP Dst Port Protocol               Timestamp Flow Duration  \\\n",
       "0  192.168.100.62    34200        6  26/05/2021 12:11:12 PM           961   \n",
       "1  35.186.220.184      443        6  26/05/2021 12:11:27 PM           218   \n",
       "2  192.168.100.62    41372        6  26/05/2021 12:11:27 PM           259   \n",
       "3  74.125.140.189      443        6  26/05/2021 12:11:31 PM           166   \n",
       "4  192.168.100.62    43972        6  26/05/2021 12:11:31 PM           254   \n",
       "\n",
       "  Total Fwd Packet Total Bwd packets  ... Fwd Seg Size Min Active Mean  \\\n",
       "0                2                 0  ...               32           0   \n",
       "1                3                 0  ...               32           0   \n",
       "2                2                 0  ...               32           0   \n",
       "3                3                 0  ...               32           0   \n",
       "4                2                 0  ...               32           0   \n",
       "\n",
       "  Active Std Active Max Active Min             Idle Mean Idle Std  \\\n",
       "0          0          0          0  1.622020272332477E15      0.0   \n",
       "1          0          0          0  1.622020287765156E15      0.0   \n",
       "2          0          0          0   1.62202028777893E15      0.0   \n",
       "3          0          0          0  1.622020291766361E15      0.0   \n",
       "4          0          0          0  1.622020291888184E15      0.0   \n",
       "\n",
       "               Idle Max              Idle Min            Label  \n",
       "0  1.622020272332477E15  1.622020272332477E15  NeedManualLabel  \n",
       "1  1.622020287765156E15  1.622020287765156E15  NeedManualLabel  \n",
       "2   1.62202028777893E15   1.62202028777893E15  NeedManualLabel  \n",
       "3  1.622020291766361E15  1.622020291766361E15  NeedManualLabel  \n",
       "4  1.622020291888184E15  1.622020291888184E15  NeedManualLabel  \n",
       "\n",
       "[5 rows x 84 columns]"
      ],
      "text/html": "<div>\n<style scoped>\n    .dataframe tbody tr th:only-of-type {\n        vertical-align: middle;\n    }\n\n    .dataframe tbody tr th {\n        vertical-align: top;\n    }\n\n    .dataframe thead th {\n        text-align: right;\n    }\n</style>\n<table border=\"1\" class=\"dataframe\">\n  <thead>\n    <tr style=\"text-align: right;\">\n      <th></th>\n      <th>Flow ID</th>\n      <th>Src IP</th>\n      <th>Src Port</th>\n      <th>Dst IP</th>\n      <th>Dst Port</th>\n      <th>Protocol</th>\n      <th>Timestamp</th>\n      <th>Flow Duration</th>\n      <th>Total Fwd Packet</th>\n      <th>Total Bwd packets</th>\n      <th>...</th>\n      <th>Fwd Seg Size Min</th>\n      <th>Active Mean</th>\n      <th>Active Std</th>\n      <th>Active Max</th>\n      <th>Active Min</th>\n      <th>Idle Mean</th>\n      <th>Idle Std</th>\n      <th>Idle Max</th>\n      <th>Idle Min</th>\n      <th>Label</th>\n    </tr>\n  </thead>\n  <tbody>\n    <tr>\n      <th>0</th>\n      <td>44.238.190.78-192.168.100.62-443-34200-6</td>\n      <td>44.238.190.78</td>\n      <td>443</td>\n      <td>192.168.100.62</td>\n      <td>34200</td>\n      <td>6</td>\n      <td>26/05/2021 12:11:12 PM</td>\n      <td>961</td>\n      <td>2</td>\n      <td>0</td>\n      <td>...</td>\n      <td>32</td>\n      <td>0</td>\n      <td>0</td>\n      <td>0</td>\n      <td>0</td>\n      <td>1.622020272332477E15</td>\n      <td>0.0</td>\n      <td>1.622020272332477E15</td>\n      <td>1.622020272332477E15</td>\n      <td>NeedManualLabel</td>\n    </tr>\n    <tr>\n      <th>1</th>\n      <td>192.168.100.62-35.186.220.184-41372-443-6</td>\n      <td>192.168.100.62</td>\n      <td>41372</td>\n      <td>35.186.220.184</td>\n      <td>443</td>\n      <td>6</td>\n      <td>26/05/2021 12:11:27 PM</td>\n      <td>218</td>\n      <td>3</td>\n      <td>0</td>\n      <td>...</td>\n      <td>32</td>\n      <td>0</td>\n      <td>0</td>\n      <td>0</td>\n      <td>0</td>\n      <td>1.622020287765156E15</td>\n      <td>0.0</td>\n      <td>1.622020287765156E15</td>\n      <td>1.622020287765156E15</td>\n      <td>NeedManualLabel</td>\n    </tr>\n    <tr>\n      <th>2</th>\n      <td>35.186.220.184-192.168.100.62-443-41372-6</td>\n      <td>35.186.220.184</td>\n      <td>443</td>\n      <td>192.168.100.62</td>\n      <td>41372</td>\n      <td>6</td>\n      <td>26/05/2021 12:11:27 PM</td>\n      <td>259</td>\n      <td>2</td>\n      <td>0</td>\n      <td>...</td>\n      <td>32</td>\n      <td>0</td>\n      <td>0</td>\n      <td>0</td>\n      <td>0</td>\n      <td>1.62202028777893E15</td>\n      <td>0.0</td>\n      <td>1.62202028777893E15</td>\n      <td>1.62202028777893E15</td>\n      <td>NeedManualLabel</td>\n    </tr>\n    <tr>\n      <th>3</th>\n      <td>192.168.100.62-74.125.140.189-43972-443-6</td>\n      <td>192.168.100.62</td>\n      <td>43972</td>\n      <td>74.125.140.189</td>\n      <td>443</td>\n      <td>6</td>\n      <td>26/05/2021 12:11:31 PM</td>\n      <td>166</td>\n      <td>3</td>\n      <td>0</td>\n      <td>...</td>\n      <td>32</td>\n      <td>0</td>\n      <td>0</td>\n      <td>0</td>\n      <td>0</td>\n      <td>1.622020291766361E15</td>\n      <td>0.0</td>\n      <td>1.622020291766361E15</td>\n      <td>1.622020291766361E15</td>\n      <td>NeedManualLabel</td>\n    </tr>\n    <tr>\n      <th>4</th>\n      <td>74.125.140.189-192.168.100.62-443-43972-6</td>\n      <td>74.125.140.189</td>\n      <td>443</td>\n      <td>192.168.100.62</td>\n      <td>43972</td>\n      <td>6</td>\n      <td>26/05/2021 12:11:31 PM</td>\n      <td>254</td>\n      <td>2</td>\n      <td>0</td>\n      <td>...</td>\n      <td>32</td>\n      <td>0</td>\n      <td>0</td>\n      <td>0</td>\n      <td>0</td>\n      <td>1.622020291888184E15</td>\n      <td>0.0</td>\n      <td>1.622020291888184E15</td>\n      <td>1.622020291888184E15</td>\n      <td>NeedManualLabel</td>\n    </tr>\n  </tbody>\n</table>\n<p>5 rows × 84 columns</p>\n</div>"
     },
     "metadata": {},
     "execution_count": 8
    }
   ],
   "source": [
    "own_df = pd.read_csv(owndataset_path)\n",
    "own_df.head()"
   ]
  },
  {
   "source": [
    "## Make Comparison"
   ],
   "cell_type": "markdown",
   "metadata": {}
  },
  {
   "cell_type": "code",
   "execution_count": 9,
   "metadata": {},
   "outputs": [
    {
     "output_type": "stream",
     "name": "stdout",
     "text": [
      "Index(['Dst Port', 'Protocol', 'Timestamp', 'Flow Duration', 'Tot Fwd Pkts',\n       'Tot Bwd Pkts', 'TotLen Fwd Pkts', 'TotLen Bwd Pkts', 'Fwd Pkt Len Max',\n       'Fwd Pkt Len Min', 'Fwd Pkt Len Mean', 'Fwd Pkt Len Std',\n       'Bwd Pkt Len Max', 'Bwd Pkt Len Min', 'Bwd Pkt Len Mean',\n       'Bwd Pkt Len Std', 'Flow Byts/s', 'Flow Pkts/s', 'Flow IAT Mean',\n       'Flow IAT Std', 'Flow IAT Max', 'Flow IAT Min', 'Fwd IAT Tot',\n       'Fwd IAT Mean', 'Fwd IAT Std', 'Fwd IAT Max', 'Fwd IAT Min',\n       'Bwd IAT Tot', 'Bwd IAT Mean', 'Bwd IAT Std', 'Bwd IAT Max',\n       'Bwd IAT Min', 'Fwd PSH Flags', 'Bwd PSH Flags', 'Fwd URG Flags',\n       'Bwd URG Flags', 'Fwd Header Len', 'Bwd Header Len', 'Fwd Pkts/s',\n       'Bwd Pkts/s', 'Pkt Len Min', 'Pkt Len Max', 'Pkt Len Mean',\n       'Pkt Len Std', 'Pkt Len Var', 'FIN Flag Cnt', 'SYN Flag Cnt',\n       'RST Flag Cnt', 'PSH Flag Cnt', 'ACK Flag Cnt', 'URG Flag Cnt',\n       'CWE Flag Count', 'ECE Flag Cnt', 'Down/Up Ratio', 'Pkt Size Avg',\n       'Fwd Seg Size Avg', 'Bwd Seg Size Avg', 'Fwd Byts/b Avg',\n       'Fwd Pkts/b Avg', 'Fwd Blk Rate Avg', 'Bwd Byts/b Avg',\n       'Bwd Pkts/b Avg', 'Bwd Blk Rate Avg', 'Subflow Fwd Pkts',\n       'Subflow Fwd Byts', 'Subflow Bwd Pkts', 'Subflow Bwd Byts',\n       'Init Fwd Win Byts', 'Init Bwd Win Byts', 'Fwd Act Data Pkts',\n       'Fwd Seg Size Min', 'Active Mean', 'Active Std', 'Active Max',\n       'Active Min', 'Idle Mean', 'Idle Std', 'Idle Max', 'Idle Min', 'Label'],\n      dtype='object')\nIndex(['Flow ID', 'Src IP', 'Src Port', 'Dst IP', 'Dst Port', 'Protocol',\n       'Timestamp', 'Flow Duration', 'Total Fwd Packet', 'Total Bwd packets',\n       'Total Length of Fwd Packet', 'Total Length of Bwd Packet',\n       'Fwd Packet Length Max', 'Fwd Packet Length Min',\n       'Fwd Packet Length Mean', 'Fwd Packet Length Std',\n       'Bwd Packet Length Max', 'Bwd Packet Length Min',\n       'Bwd Packet Length Mean', 'Bwd Packet Length Std', 'Flow Bytes/s',\n       'Flow Packets/s', 'Flow IAT Mean', 'Flow IAT Std', 'Flow IAT Max',\n       'Flow IAT Min', 'Fwd IAT Total', 'Fwd IAT Mean', 'Fwd IAT Std',\n       'Fwd IAT Max', 'Fwd IAT Min', 'Bwd IAT Total', 'Bwd IAT Mean',\n       'Bwd IAT Std', 'Bwd IAT Max', 'Bwd IAT Min', 'Fwd PSH Flags',\n       'Bwd PSH Flags', 'Fwd URG Flags', 'Bwd URG Flags', 'Fwd Header Length',\n       'Bwd Header Length', 'Fwd Packets/s', 'Bwd Packets/s',\n       'Packet Length Min', 'Packet Length Max', 'Packet Length Mean',\n       'Packet Length Std', 'Packet Length Variance', 'FIN Flag Count',\n       'SYN Flag Count', 'RST Flag Count', 'PSH Flag Count', 'ACK Flag Count',\n       'URG Flag Count', 'CWR Flag Count', 'ECE Flag Count', 'Down/Up Ratio',\n       'Average Packet Size', 'Fwd Segment Size Avg', 'Bwd Segment Size Avg',\n       'Fwd Bytes/Bulk Avg', 'Fwd Packet/Bulk Avg', 'Fwd Bulk Rate Avg',\n       'Bwd Bytes/Bulk Avg', 'Bwd Packet/Bulk Avg', 'Bwd Bulk Rate Avg',\n       'Subflow Fwd Packets', 'Subflow Fwd Bytes', 'Subflow Bwd Packets',\n       'Subflow Bwd Bytes', 'FWD Init Win Bytes', 'Bwd Init Win Bytes',\n       'Fwd Act Data Pkts', 'Fwd Seg Size Min', 'Active Mean', 'Active Std',\n       'Active Max', 'Active Min', 'Idle Mean', 'Idle Std', 'Idle Max',\n       'Idle Min', 'Label'],\n      dtype='object')\n"
     ]
    }
   ],
   "source": [
    "print(base_df.columns)\n",
    "print(own_df.columns)"
   ]
  },
  {
   "cell_type": "code",
   "execution_count": 10,
   "metadata": {},
   "outputs": [
    {
     "output_type": "stream",
     "name": "stdout",
     "text": [
      "Number of Base Dataset Columns: 80\nNumber of Own Dataset Columns: 84\n"
     ]
    }
   ],
   "source": [
    "# Before processing columns\n",
    "print(\"Number of Base Dataset Columns:\", len(base_df.columns))\n",
    "print(\"Number of Own Dataset Columns:\", len(own_df.columns))"
   ]
  },
  {
   "cell_type": "code",
   "execution_count": 11,
   "metadata": {},
   "outputs": [
    {
     "output_type": "stream",
     "name": "stdout",
     "text": [
      "{'CWR Flag Count', 'Fwd IAT Total', 'Fwd Packets/s', 'Total Length of Fwd Packet', 'Bwd Header Length', 'Fwd Packet Length Std', 'Src Port', 'Fwd Packet Length Mean', 'Bwd Packets/s', 'Fwd Bytes/Bulk Avg', 'Bwd Segment Size Avg', 'Total Bwd packets', 'PSH Flag Count', 'URG Flag Count', 'Subflow Fwd Bytes', 'Fwd Packet Length Min', 'FIN Flag Count', 'Bwd Init Win Bytes', 'Fwd Header Length', 'Flow Bytes/s', 'Dst IP', 'Fwd Packet Length Max', 'Fwd Bulk Rate Avg', 'Flow ID', 'Packet Length Min', 'Packet Length Max', 'Bwd IAT Total', 'Packet Length Variance', 'ACK Flag Count', 'ECE Flag Count', 'Bwd Bulk Rate Avg', 'Average Packet Size', 'Packet Length Mean', 'Packet Length Std', 'Flow Packets/s', 'Bwd Packet Length Min', 'Fwd Packet/Bulk Avg', 'Subflow Bwd Packets', 'Bwd Packet Length Std', 'Src IP', 'Total Length of Bwd Packet', 'Bwd Packet/Bulk Avg', 'Fwd Segment Size Avg', 'Subflow Bwd Bytes', 'Bwd Packet Length Max', 'FWD Init Win Bytes', 'Total Fwd Packet', 'Subflow Fwd Packets', 'Bwd Packet Length Mean', 'Bwd Bytes/Bulk Avg', 'SYN Flag Count', 'RST Flag Count'}\n\n{'Init Bwd Win Byts', 'Pkt Len Max', 'Fwd Header Len', 'RST Flag Cnt', 'CWE Flag Count', 'Fwd Pkt Len Std', 'Fwd Pkts/s', 'Subflow Fwd Pkts', 'Fwd Pkt Len Max', 'Tot Bwd Pkts', 'FIN Flag Cnt', 'Subflow Bwd Pkts', 'Bwd Pkts/s', 'Bwd Seg Size Avg', 'Pkt Len Var', 'Subflow Bwd Byts', 'Flow Pkts/s', 'Subflow Fwd Byts', 'Bwd Pkt Len Mean', 'Bwd Pkt Len Min', 'URG Flag Cnt', 'Tot Fwd Pkts', 'Bwd Pkt Len Max', 'ECE Flag Cnt', 'Fwd Pkts/b Avg', 'Fwd Pkt Len Mean', 'Bwd Byts/b Avg', 'PSH Flag Cnt', 'Bwd Header Len', 'Fwd IAT Tot', 'Fwd Blk Rate Avg', 'TotLen Bwd Pkts', 'Bwd Pkt Len Std', 'Bwd Pkts/b Avg', 'Pkt Size Avg', 'Flow Byts/s', 'SYN Flag Cnt', 'Pkt Len Min', 'ACK Flag Cnt', 'Fwd Byts/b Avg', 'Bwd IAT Tot', 'Pkt Len Std', 'Bwd Blk Rate Avg', 'Pkt Len Mean', 'TotLen Fwd Pkts', 'Fwd Pkt Len Min', 'Init Fwd Win Byts', 'Fwd Seg Size Avg'}\n"
     ]
    }
   ],
   "source": [
    "baseset = set(base_df.columns)\n",
    "ownset = set(own_df.columns)\n",
    "\n",
    "print(ownset-baseset)\n",
    "print()\n",
    "print(baseset-ownset)"
   ]
  },
  {
   "source": [
    "## Replacement of column names to standard CIC-IDS-2018 using `fuzzywuzzy`"
   ],
   "cell_type": "markdown",
   "metadata": {}
  },
  {
   "cell_type": "code",
   "execution_count": 12,
   "metadata": {},
   "outputs": [],
   "source": [
    "\"\"\"Install the following packages\"\"\"\n",
    "# !python3 -m pip install fuzzywuzzy python-Levenshtein\n",
    "\n",
    "from fuzzywuzzy import fuzz\n",
    "from fuzzywuzzy import process"
   ]
  },
  {
   "cell_type": "code",
   "execution_count": 13,
   "metadata": {},
   "outputs": [
    {
     "output_type": "stream",
     "name": "stdout",
     "text": [
      "\nNumber of Columns to correct : 52\nNumber of corrected labels from `token_sort_ratio` : 48\n"
     ]
    }
   ],
   "source": [
    "# Create a replacement mapping dictionary\n",
    "different_colnames = ownset - baseset\n",
    "\n",
    "# Pick scorer for the fuzzy matching\n",
    "scorer = fuzz.token_sort_ratio\n",
    "score_limit = 65\n",
    "\n",
    "corrected_labels_map = {}\n",
    "\n",
    "for column_name in different_colnames:\n",
    "    correct_name = process.extractOne(column_name, baseset, scorer=scorer)\n",
    "    if correct_name[1] < score_limit:\n",
    "        continue # so basically skip\n",
    "    corrected_labels_map[column_name] = correct_name # add to mapping\n",
    "    \n",
    "\n",
    "print(f\"\\nNumber of Columns to correct : {len(different_colnames)}\")\n",
    "print(f\"Number of corrected labels from `{scorer.__name__}` : {len(corrected_labels_map)}\")\n",
    "\n",
    "\n",
    "# print(f\"{column_name} -> {result[0]} : Score {result[1]}\")"
   ]
  },
  {
   "cell_type": "code",
   "execution_count": 14,
   "metadata": {},
   "outputs": [
    {
     "output_type": "stream",
     "name": "stdout",
     "text": [
      "[('Subflow Fwd Bytes', ('Subflow Fwd Byts', 97)),\n ('Bwd Init Win Bytes', ('Init Bwd Win Byts', 97)),\n ('Fwd Bulk Rate Avg', ('Fwd Blk Rate Avg', 97)),\n ('Bwd Bulk Rate Avg', ('Bwd Blk Rate Avg', 97)),\n ('Subflow Bwd Bytes', ('Subflow Bwd Byts', 97)),\n ('FWD Init Win Bytes', ('Init Fwd Win Byts', 97)),\n ('Flow Bytes/s', ('Flow Byts/s', 96)),\n ('CWR Flag Count', ('CWE Flag Count', 93)),\n ('ECE Flag Count', ('CWE Flag Count', 93)),\n ('Fwd IAT Total', ('Fwd IAT Tot', 92)),\n ('PSH Flag Count', ('PSH Flag Cnt', 92)),\n ('URG Flag Count', ('URG Flag Cnt', 92)),\n ('FIN Flag Count', ('FIN Flag Cnt', 92)),\n ('Bwd IAT Total', ('Bwd IAT Tot', 92)),\n ('ACK Flag Count', ('ACK Flag Cnt', 92)),\n ('SYN Flag Count', ('SYN Flag Cnt', 92)),\n ('RST Flag Count', ('RST Flag Cnt', 92)),\n ('Subflow Bwd Packets', ('Subflow Bwd Pkts', 91)),\n ('Subflow Fwd Packets', ('Subflow Fwd Pkts', 91)),\n ('Bwd Header Length', ('Bwd Header Len', 90)),\n ('Fwd Header Length', ('Fwd Header Len', 90)),\n ('Bwd Segment Size Avg', ('Bwd Seg Size Avg', 89)),\n ('Fwd Segment Size Avg', ('Fwd Seg Size Avg', 89)),\n ('Fwd Bytes/Bulk Avg', ('Fwd Byts/b Avg', 88)),\n ('Flow Packets/s', ('Flow Pkts/s', 88)),\n ('Bwd Bytes/Bulk Avg', ('Bwd Byts/b Avg', 88)),\n ('Fwd Packets/s', ('Fwd Pkts/s', 87)),\n ('Bwd Packets/s', ('Bwd Pkts/s', 87)),\n ('Fwd Packet Length Mean', ('Fwd Pkt Len Mean', 84)),\n ('Bwd Packet Length Mean', ('Bwd Pkt Len Mean', 84)),\n ('Fwd Packet Length Std', ('Fwd Pkt Len Std', 83)),\n ('Total Bwd packets', ('Tot Bwd Pkts', 83)),\n ('Fwd Packet Length Min', ('Fwd Pkt Len Min', 83)),\n ('Fwd Packet Length Max', ('Fwd Pkt Len Max', 83)),\n ('Bwd Packet Length Min', ('Bwd Pkt Len Min', 83)),\n ('Bwd Packet Length Std', ('Bwd Pkt Len Std', 83)),\n ('Bwd Packet Length Max', ('Bwd Pkt Len Max', 83)),\n ('Packet Length Mean', ('Pkt Len Mean', 80)),\n ('Fwd Packet/Bulk Avg', ('Fwd Blk Rate Avg', 80)),\n ('Bwd Packet/Bulk Avg', ('Bwd Blk Rate Avg', 80)),\n ('Packet Length Min', ('Pkt Len Min', 79)),\n ('Packet Length Max', ('Pkt Len Max', 79)),\n ('Packet Length Std', ('Pkt Len Std', 79)),\n ('Total Fwd Packet', ('Tot Fwd Pkts', 79)),\n ('Average Packet Size', ('Pkt Size Avg', 77)),\n ('Flow ID', ('Flow IAT Std', 74)),\n ('Dst IP', ('Dst Port', 71)),\n ('Packet Length Variance', ('Pkt Len Var', 67))]\n"
     ]
    }
   ],
   "source": [
    "names = corrected_labels_map.items()\n",
    "pprint(sorted(names, key=lambda x : x[1][1], reverse=True))\n",
    "corrected_labels_map = dict({entry[0]: entry[1][0] for entry in corrected_labels_map.items()})"
   ]
  },
  {
   "cell_type": "code",
   "execution_count": 15,
   "metadata": {},
   "outputs": [
    {
     "output_type": "execute_result",
     "data": {
      "text/plain": [
       "{'Bwd Packet/Bulk Avg',\n",
       " 'Dst IP',\n",
       " 'ECE Flag Count',\n",
       " 'Flow ID',\n",
       " 'Fwd Packet/Bulk Avg',\n",
       " 'Src IP',\n",
       " 'Src Port',\n",
       " 'Total Length of Bwd Packet',\n",
       " 'Total Length of Fwd Packet'}"
      ]
     },
     "metadata": {},
     "execution_count": 15
    }
   ],
   "source": [
    "# Rejected certain corrections from it\n",
    "keys = ['Flow ID', 'Dst IP', 'Bwd Packet/Bulk Avg', 'Fwd Packet/Bulk Avg', 'ECE Flag Count']\n",
    "for key in keys:\n",
    "    del corrected_labels_map[key]\n",
    "remaining_cols = ownset - corrected_labels_map.keys()\n",
    "remaining_cols - baseset"
   ]
  },
  {
   "cell_type": "code",
   "execution_count": 16,
   "metadata": {},
   "outputs": [],
   "source": [
    "# Manual Changes\n",
    "change = {'Bwd Packet/Bulk Avg' : 'Bwd Pkts/b Avg',\n",
    " 'ECE Flag Count': 'ECE Flag Cnt',\n",
    " 'Fwd Packet/Bulk Avg': 'Fwd Pkts/b Avg',\n",
    " 'Total Length of Bwd Packet': 'TotLen Bwd Pkts',\n",
    " 'Total Length of Fwd Packet': 'TotLen Fwd Pkts'}\n",
    "\n",
    "corrected_labels_map.update(change)"
   ]
  },
  {
   "cell_type": "code",
   "execution_count": 17,
   "metadata": {},
   "outputs": [
    {
     "output_type": "execute_result",
     "data": {
      "text/plain": [
       "{'Dst IP', 'Flow ID', 'Src IP', 'Src Port'}"
      ]
     },
     "metadata": {},
     "execution_count": 17
    }
   ],
   "source": [
    "# Drop columns\n",
    "extra_cols = ownset - corrected_labels_map.keys() - baseset\n",
    "own_df.drop(extra_cols, axis=1, inplace=True)\n",
    "extra_cols"
   ]
  },
  {
   "cell_type": "code",
   "execution_count": 18,
   "metadata": {},
   "outputs": [
    {
     "output_type": "execute_result",
     "data": {
      "text/plain": [
       "Index(['Dst Port', 'Protocol', 'Timestamp', 'Flow Duration', 'Tot Fwd Pkts',\n",
       "       'Tot Bwd Pkts', 'TotLen Fwd Pkts', 'TotLen Bwd Pkts', 'Fwd Pkt Len Max',\n",
       "       'Fwd Pkt Len Min', 'Fwd Pkt Len Mean', 'Fwd Pkt Len Std',\n",
       "       'Bwd Pkt Len Max', 'Bwd Pkt Len Min', 'Bwd Pkt Len Mean',\n",
       "       'Bwd Pkt Len Std', 'Flow Byts/s', 'Flow Pkts/s', 'Flow IAT Mean',\n",
       "       'Flow IAT Std', 'Flow IAT Max', 'Flow IAT Min', 'Fwd IAT Tot',\n",
       "       'Fwd IAT Mean', 'Fwd IAT Std', 'Fwd IAT Max', 'Fwd IAT Min',\n",
       "       'Bwd IAT Tot', 'Bwd IAT Mean', 'Bwd IAT Std', 'Bwd IAT Max',\n",
       "       'Bwd IAT Min', 'Fwd PSH Flags', 'Bwd PSH Flags', 'Fwd URG Flags',\n",
       "       'Bwd URG Flags', 'Fwd Header Len', 'Bwd Header Len', 'Fwd Pkts/s',\n",
       "       'Bwd Pkts/s', 'Pkt Len Min', 'Pkt Len Max', 'Pkt Len Mean',\n",
       "       'Pkt Len Std', 'Pkt Len Var', 'FIN Flag Cnt', 'SYN Flag Cnt',\n",
       "       'RST Flag Cnt', 'PSH Flag Cnt', 'ACK Flag Cnt', 'URG Flag Cnt',\n",
       "       'CWE Flag Count', 'ECE Flag Cnt', 'Down/Up Ratio', 'Pkt Size Avg',\n",
       "       'Fwd Seg Size Avg', 'Bwd Seg Size Avg', 'Fwd Byts/b Avg',\n",
       "       'Fwd Pkts/b Avg', 'Fwd Blk Rate Avg', 'Bwd Byts/b Avg',\n",
       "       'Bwd Pkts/b Avg', 'Bwd Blk Rate Avg', 'Subflow Fwd Pkts',\n",
       "       'Subflow Fwd Byts', 'Subflow Bwd Pkts', 'Subflow Bwd Byts',\n",
       "       'Init Fwd Win Byts', 'Init Bwd Win Byts', 'Fwd Act Data Pkts',\n",
       "       'Fwd Seg Size Min', 'Active Mean', 'Active Std', 'Active Max',\n",
       "       'Active Min', 'Idle Mean', 'Idle Std', 'Idle Max', 'Idle Min', 'Label'],\n",
       "      dtype='object')"
      ]
     },
     "metadata": {},
     "execution_count": 18
    }
   ],
   "source": [
    "# Finally replace columns\n",
    "own_df.columns = own_df.columns.map(lambda bad_col: corrected_labels_map.get(bad_col, bad_col))\n",
    "own_df.columns"
   ]
  },
  {
   "source": [
    "Verify if any mistmatching columns"
   ],
   "cell_type": "markdown",
   "metadata": {}
  },
  {
   "cell_type": "code",
   "execution_count": 19,
   "metadata": {},
   "outputs": [
    {
     "output_type": "stream",
     "name": "stdout",
     "text": [
      "set()\n"
     ]
    }
   ],
   "source": [
    "print(set(own_df.columns)-set(base_df.columns))"
   ]
  },
  {
   "cell_type": "code",
   "execution_count": 20,
   "metadata": {},
   "outputs": [
    {
     "output_type": "stream",
     "name": "stdout",
     "text": [
      "set()\n"
     ]
    }
   ],
   "source": [
    "print(set(base_df.columns)-set(own_df.columns))"
   ]
  },
  {
   "source": [
    "Empty sets, therefore no mismatch. Done!"
   ],
   "cell_type": "markdown",
   "metadata": {}
  }
 ],
 "metadata": {
  "kernelspec": {
   "display_name": "Python 3",
   "language": "python",
   "name": "python3"
  },
  "language_info": {
   "codemirror_mode": {
    "name": "ipython",
    "version": 3
   },
   "file_extension": ".py",
   "mimetype": "text/x-python",
   "name": "python",
   "nbconvert_exporter": "python",
   "pygments_lexer": "ipython3",
   "version": "3.8.5"
  }
 },
 "nbformat": 4,
 "nbformat_minor": 5
}