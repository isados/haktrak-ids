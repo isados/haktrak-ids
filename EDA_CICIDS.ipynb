{
 "cells": [
  {
   "source": [
    "## Setup"
   ],
   "cell_type": "markdown",
   "metadata": {}
  },
  {
   "cell_type": "code",
   "execution_count": 1,
   "id": "39d70b9c",
   "metadata": {},
   "outputs": [],
   "source": [
    "import json as js\n",
    "import pandas as pd\n",
    "import numpy as np\n",
    "from pprint import pprint\n",
    "from utilities import read_base_dataset, read_companys_dataset2018\n",
    "%matplotlib inline"
   ]
  },
  {
   "cell_type": "code",
   "execution_count": 6,
   "metadata": {},
   "outputs": [],
   "source": []
  },
  {
   "source": [
    "## Read datasets"
   ],
   "cell_type": "markdown",
   "metadata": {}
  },
  {
   "cell_type": "code",
   "execution_count": 2,
   "id": "443cdb7d",
   "metadata": {},
   "outputs": [
    {
     "output_type": "execute_result",
     "data": {
      "text/plain": [
       "   Dst Port  Protocol            Timestamp  Flow Duration  Tot Fwd Pkts  \\\n",
       "0        80         6  21/02/2018 08:33:25          37953             5   \n",
       "1       500        17  21/02/2018 08:33:06      117573474             3   \n",
       "2       500        17  21/02/2018 08:33:06      117573474             3   \n",
       "3       500        17  21/02/2018 08:33:11       99743998             5   \n",
       "4       500        17  21/02/2018 08:33:11       99743999             5   \n",
       "\n",
       "   Tot Bwd Pkts  TotLen Fwd Pkts  TotLen Bwd Pkts  Fwd Pkt Len Max  \\\n",
       "0             3              135              127              135   \n",
       "1             0             1500                0              500   \n",
       "2             0             1500                0              500   \n",
       "3             0             2500                0              500   \n",
       "4             0             2500                0              500   \n",
       "\n",
       "   Fwd Pkt Len Min  ...  Fwd Seg Size Min  Active Mean  Active Std  \\\n",
       "0                0  ...                32          0.0         0.0   \n",
       "1              500  ...                 8          0.0         0.0   \n",
       "2              500  ...                 8          0.0         0.0   \n",
       "3              500  ...                 8    4000290.0         0.0   \n",
       "4              500  ...                 8    4000286.0         0.0   \n",
       "\n",
       "   Active Max  Active Min   Idle Mean    Idle Std  Idle Max  Idle Min   Label  \n",
       "0           0           0         0.0         0.0         0         0  Benign  \n",
       "1           0           0  58800000.0  23800000.0  75600000  42000000  Benign  \n",
       "2           0           0  58800000.0  23800000.0  75600000  42000000  Benign  \n",
       "3     4000290     4000290  31900000.0  37900000.0  75600000   7200397  Benign  \n",
       "4     4000286     4000286  31900000.0  37900000.0  75600000   7200399  Benign  \n",
       "\n",
       "[5 rows x 80 columns]"
      ],
      "text/html": "<div>\n<style scoped>\n    .dataframe tbody tr th:only-of-type {\n        vertical-align: middle;\n    }\n\n    .dataframe tbody tr th {\n        vertical-align: top;\n    }\n\n    .dataframe thead th {\n        text-align: right;\n    }\n</style>\n<table border=\"1\" class=\"dataframe\">\n  <thead>\n    <tr style=\"text-align: right;\">\n      <th></th>\n      <th>Dst Port</th>\n      <th>Protocol</th>\n      <th>Timestamp</th>\n      <th>Flow Duration</th>\n      <th>Tot Fwd Pkts</th>\n      <th>Tot Bwd Pkts</th>\n      <th>TotLen Fwd Pkts</th>\n      <th>TotLen Bwd Pkts</th>\n      <th>Fwd Pkt Len Max</th>\n      <th>Fwd Pkt Len Min</th>\n      <th>...</th>\n      <th>Fwd Seg Size Min</th>\n      <th>Active Mean</th>\n      <th>Active Std</th>\n      <th>Active Max</th>\n      <th>Active Min</th>\n      <th>Idle Mean</th>\n      <th>Idle Std</th>\n      <th>Idle Max</th>\n      <th>Idle Min</th>\n      <th>Label</th>\n    </tr>\n  </thead>\n  <tbody>\n    <tr>\n      <th>0</th>\n      <td>80</td>\n      <td>6</td>\n      <td>21/02/2018 08:33:25</td>\n      <td>37953</td>\n      <td>5</td>\n      <td>3</td>\n      <td>135</td>\n      <td>127</td>\n      <td>135</td>\n      <td>0</td>\n      <td>...</td>\n      <td>32</td>\n      <td>0.0</td>\n      <td>0.0</td>\n      <td>0</td>\n      <td>0</td>\n      <td>0.0</td>\n      <td>0.0</td>\n      <td>0</td>\n      <td>0</td>\n      <td>Benign</td>\n    </tr>\n    <tr>\n      <th>1</th>\n      <td>500</td>\n      <td>17</td>\n      <td>21/02/2018 08:33:06</td>\n      <td>117573474</td>\n      <td>3</td>\n      <td>0</td>\n      <td>1500</td>\n      <td>0</td>\n      <td>500</td>\n      <td>500</td>\n      <td>...</td>\n      <td>8</td>\n      <td>0.0</td>\n      <td>0.0</td>\n      <td>0</td>\n      <td>0</td>\n      <td>58800000.0</td>\n      <td>23800000.0</td>\n      <td>75600000</td>\n      <td>42000000</td>\n      <td>Benign</td>\n    </tr>\n    <tr>\n      <th>2</th>\n      <td>500</td>\n      <td>17</td>\n      <td>21/02/2018 08:33:06</td>\n      <td>117573474</td>\n      <td>3</td>\n      <td>0</td>\n      <td>1500</td>\n      <td>0</td>\n      <td>500</td>\n      <td>500</td>\n      <td>...</td>\n      <td>8</td>\n      <td>0.0</td>\n      <td>0.0</td>\n      <td>0</td>\n      <td>0</td>\n      <td>58800000.0</td>\n      <td>23800000.0</td>\n      <td>75600000</td>\n      <td>42000000</td>\n      <td>Benign</td>\n    </tr>\n    <tr>\n      <th>3</th>\n      <td>500</td>\n      <td>17</td>\n      <td>21/02/2018 08:33:11</td>\n      <td>99743998</td>\n      <td>5</td>\n      <td>0</td>\n      <td>2500</td>\n      <td>0</td>\n      <td>500</td>\n      <td>500</td>\n      <td>...</td>\n      <td>8</td>\n      <td>4000290.0</td>\n      <td>0.0</td>\n      <td>4000290</td>\n      <td>4000290</td>\n      <td>31900000.0</td>\n      <td>37900000.0</td>\n      <td>75600000</td>\n      <td>7200397</td>\n      <td>Benign</td>\n    </tr>\n    <tr>\n      <th>4</th>\n      <td>500</td>\n      <td>17</td>\n      <td>21/02/2018 08:33:11</td>\n      <td>99743999</td>\n      <td>5</td>\n      <td>0</td>\n      <td>2500</td>\n      <td>0</td>\n      <td>500</td>\n      <td>500</td>\n      <td>...</td>\n      <td>8</td>\n      <td>4000286.0</td>\n      <td>0.0</td>\n      <td>4000286</td>\n      <td>4000286</td>\n      <td>31900000.0</td>\n      <td>37900000.0</td>\n      <td>75600000</td>\n      <td>7200399</td>\n      <td>Benign</td>\n    </tr>\n  </tbody>\n</table>\n<p>5 rows × 80 columns</p>\n</div>"
     },
     "metadata": {},
     "execution_count": 2
    }
   ],
   "source": [
    "base_df = read_base_dataset()\n",
    "base_df.head()"
   ]
  },
  {
   "cell_type": "code",
   "execution_count": 3,
   "metadata": {},
   "outputs": [
    {
     "output_type": "stream",
     "name": "stdout",
     "text": [
      "Number of Base Dataset Columns: 80\nNumber of Own Dataset Columns: 84\n\nNumber of Columns to correct : 52\nNumber of corrected labels from `token_sort_ratio` : 48\n"
     ]
    },
    {
     "output_type": "execute_result",
     "data": {
      "text/plain": [
       "  Dst Port Protocol               Timestamp Flow Duration Tot Fwd Pkts  \\\n",
       "0    34200        6  26/05/2021 12:11:12 PM           961            2   \n",
       "1      443        6  26/05/2021 12:11:27 PM           218            3   \n",
       "2    41372        6  26/05/2021 12:11:27 PM           259            2   \n",
       "3      443        6  26/05/2021 12:11:31 PM           166            3   \n",
       "4    43972        6  26/05/2021 12:11:31 PM           254            2   \n",
       "\n",
       "  Tot Bwd Pkts TotLen Fwd Pkts TotLen Bwd Pkts Fwd Pkt Len Max  \\\n",
       "0            0             0.0             0.0             0.0   \n",
       "1            0            63.0             0.0            39.0   \n",
       "2            0             0.0             0.0             0.0   \n",
       "3            0            63.0             0.0            39.0   \n",
       "4            0             0.0             0.0             0.0   \n",
       "\n",
       "  Fwd Pkt Len Min  ... Fwd Seg Size Min Active Mean Active Std Active Max  \\\n",
       "0             0.0  ...               32           0          0          0   \n",
       "1             0.0  ...               32           0          0          0   \n",
       "2             0.0  ...               32           0          0          0   \n",
       "3             0.0  ...               32           0          0          0   \n",
       "4             0.0  ...               32           0          0          0   \n",
       "\n",
       "  Active Min             Idle Mean Idle Std              Idle Max  \\\n",
       "0          0  1.622020272332477E15      0.0  1.622020272332477E15   \n",
       "1          0  1.622020287765156E15      0.0  1.622020287765156E15   \n",
       "2          0   1.62202028777893E15      0.0   1.62202028777893E15   \n",
       "3          0  1.622020291766361E15      0.0  1.622020291766361E15   \n",
       "4          0  1.622020291888184E15      0.0  1.622020291888184E15   \n",
       "\n",
       "               Idle Min            Label  \n",
       "0  1.622020272332477E15  NeedManualLabel  \n",
       "1  1.622020287765156E15  NeedManualLabel  \n",
       "2   1.62202028777893E15  NeedManualLabel  \n",
       "3  1.622020291766361E15  NeedManualLabel  \n",
       "4  1.622020291888184E15  NeedManualLabel  \n",
       "\n",
       "[5 rows x 80 columns]"
      ],
      "text/html": "<div>\n<style scoped>\n    .dataframe tbody tr th:only-of-type {\n        vertical-align: middle;\n    }\n\n    .dataframe tbody tr th {\n        vertical-align: top;\n    }\n\n    .dataframe thead th {\n        text-align: right;\n    }\n</style>\n<table border=\"1\" class=\"dataframe\">\n  <thead>\n    <tr style=\"text-align: right;\">\n      <th></th>\n      <th>Dst Port</th>\n      <th>Protocol</th>\n      <th>Timestamp</th>\n      <th>Flow Duration</th>\n      <th>Tot Fwd Pkts</th>\n      <th>Tot Bwd Pkts</th>\n      <th>TotLen Fwd Pkts</th>\n      <th>TotLen Bwd Pkts</th>\n      <th>Fwd Pkt Len Max</th>\n      <th>Fwd Pkt Len Min</th>\n      <th>...</th>\n      <th>Fwd Seg Size Min</th>\n      <th>Active Mean</th>\n      <th>Active Std</th>\n      <th>Active Max</th>\n      <th>Active Min</th>\n      <th>Idle Mean</th>\n      <th>Idle Std</th>\n      <th>Idle Max</th>\n      <th>Idle Min</th>\n      <th>Label</th>\n    </tr>\n  </thead>\n  <tbody>\n    <tr>\n      <th>0</th>\n      <td>34200</td>\n      <td>6</td>\n      <td>26/05/2021 12:11:12 PM</td>\n      <td>961</td>\n      <td>2</td>\n      <td>0</td>\n      <td>0.0</td>\n      <td>0.0</td>\n      <td>0.0</td>\n      <td>0.0</td>\n      <td>...</td>\n      <td>32</td>\n      <td>0</td>\n      <td>0</td>\n      <td>0</td>\n      <td>0</td>\n      <td>1.622020272332477E15</td>\n      <td>0.0</td>\n      <td>1.622020272332477E15</td>\n      <td>1.622020272332477E15</td>\n      <td>NeedManualLabel</td>\n    </tr>\n    <tr>\n      <th>1</th>\n      <td>443</td>\n      <td>6</td>\n      <td>26/05/2021 12:11:27 PM</td>\n      <td>218</td>\n      <td>3</td>\n      <td>0</td>\n      <td>63.0</td>\n      <td>0.0</td>\n      <td>39.0</td>\n      <td>0.0</td>\n      <td>...</td>\n      <td>32</td>\n      <td>0</td>\n      <td>0</td>\n      <td>0</td>\n      <td>0</td>\n      <td>1.622020287765156E15</td>\n      <td>0.0</td>\n      <td>1.622020287765156E15</td>\n      <td>1.622020287765156E15</td>\n      <td>NeedManualLabel</td>\n    </tr>\n    <tr>\n      <th>2</th>\n      <td>41372</td>\n      <td>6</td>\n      <td>26/05/2021 12:11:27 PM</td>\n      <td>259</td>\n      <td>2</td>\n      <td>0</td>\n      <td>0.0</td>\n      <td>0.0</td>\n      <td>0.0</td>\n      <td>0.0</td>\n      <td>...</td>\n      <td>32</td>\n      <td>0</td>\n      <td>0</td>\n      <td>0</td>\n      <td>0</td>\n      <td>1.62202028777893E15</td>\n      <td>0.0</td>\n      <td>1.62202028777893E15</td>\n      <td>1.62202028777893E15</td>\n      <td>NeedManualLabel</td>\n    </tr>\n    <tr>\n      <th>3</th>\n      <td>443</td>\n      <td>6</td>\n      <td>26/05/2021 12:11:31 PM</td>\n      <td>166</td>\n      <td>3</td>\n      <td>0</td>\n      <td>63.0</td>\n      <td>0.0</td>\n      <td>39.0</td>\n      <td>0.0</td>\n      <td>...</td>\n      <td>32</td>\n      <td>0</td>\n      <td>0</td>\n      <td>0</td>\n      <td>0</td>\n      <td>1.622020291766361E15</td>\n      <td>0.0</td>\n      <td>1.622020291766361E15</td>\n      <td>1.622020291766361E15</td>\n      <td>NeedManualLabel</td>\n    </tr>\n    <tr>\n      <th>4</th>\n      <td>43972</td>\n      <td>6</td>\n      <td>26/05/2021 12:11:31 PM</td>\n      <td>254</td>\n      <td>2</td>\n      <td>0</td>\n      <td>0.0</td>\n      <td>0.0</td>\n      <td>0.0</td>\n      <td>0.0</td>\n      <td>...</td>\n      <td>32</td>\n      <td>0</td>\n      <td>0</td>\n      <td>0</td>\n      <td>0</td>\n      <td>1.622020291888184E15</td>\n      <td>0.0</td>\n      <td>1.622020291888184E15</td>\n      <td>1.622020291888184E15</td>\n      <td>NeedManualLabel</td>\n    </tr>\n  </tbody>\n</table>\n<p>5 rows × 80 columns</p>\n</div>"
     },
     "metadata": {},
     "execution_count": 3
    }
   ],
   "source": [
    "own_df = read_companys_dataset2018()\n",
    "own_df.head()"
   ]
  },
  {
   "source": [
    "## Make Comparison"
   ],
   "cell_type": "markdown",
   "metadata": {}
  },
  {
   "cell_type": "code",
   "execution_count": 4,
   "metadata": {},
   "outputs": [
    {
     "output_type": "stream",
     "name": "stdout",
     "text": [
      "Number of Base Dataset Columns: 80\nNumber of Own Dataset Columns: 80\n"
     ]
    }
   ],
   "source": [
    "# Before processing columns\n",
    "print(\"Number of Base Dataset Columns:\", len(base_df.columns))\n",
    "print(\"Number of Own Dataset Columns:\", len(own_df.columns))"
   ]
  },
  {
   "cell_type": "code",
   "execution_count": 5,
   "metadata": {},
   "outputs": [
    {
     "output_type": "stream",
     "name": "stdout",
     "text": [
      "set()\n\nset()\n"
     ]
    }
   ],
   "source": [
    "baseset = set(base_df.columns)\n",
    "ownset = set(own_df.columns)\n",
    "\n",
    "print(ownset-baseset)\n",
    "print()\n",
    "print(baseset-ownset)"
   ]
  },
  {
   "source": [
    "## Replacement of column names to standard CIC-IDS-2018 using `fuzzywuzzy`"
   ],
   "cell_type": "markdown",
   "metadata": {}
  },
  {
   "cell_type": "code",
   "execution_count": 6,
   "metadata": {},
   "outputs": [
    {
     "output_type": "execute_result",
     "data": {
      "text/plain": [
       "'Install the following packages'"
      ]
     },
     "metadata": {},
     "execution_count": 6
    }
   ],
   "source": [
    "\"\"\"Install the following packages\"\"\"\n",
    "# !python3 -m pip install fuzzywuzzy python-Levenshtein\n",
    "# Refer to utilities function"
   ]
  },
  {
   "cell_type": "code",
   "execution_count": 10,
   "metadata": {},
   "outputs": [
    {
     "output_type": "stream",
     "name": "stdout",
     "text": [
      "<class 'pandas.core.frame.DataFrame'>\nRangeIndex: 1048575 entries, 0 to 1048574\nData columns (total 80 columns):\n #   Column             Non-Null Count    Dtype  \n---  ------             --------------    -----  \n 0   Dst Port           1048575 non-null  int64  \n 1   Protocol           1048575 non-null  int64  \n 2   Timestamp          1048575 non-null  object \n 3   Flow Duration      1048575 non-null  int64  \n 4   Tot Fwd Pkts       1048575 non-null  int64  \n 5   Tot Bwd Pkts       1048575 non-null  int64  \n 6   TotLen Fwd Pkts    1048575 non-null  int64  \n 7   TotLen Bwd Pkts    1048575 non-null  int64  \n 8   Fwd Pkt Len Max    1048575 non-null  int64  \n 9   Fwd Pkt Len Min    1048575 non-null  int64  \n 10  Fwd Pkt Len Mean   1048575 non-null  float64\n 11  Fwd Pkt Len Std    1048575 non-null  float64\n 12  Bwd Pkt Len Max    1048575 non-null  int64  \n 13  Bwd Pkt Len Min    1048575 non-null  int64  \n 14  Bwd Pkt Len Mean   1048575 non-null  float64\n 15  Bwd Pkt Len Std    1048575 non-null  float64\n 16  Flow Byts/s        1048575 non-null  float64\n 17  Flow Pkts/s        1048575 non-null  float64\n 18  Flow IAT Mean      1048575 non-null  float64\n 19  Flow IAT Std       1048575 non-null  float64\n 20  Flow IAT Max       1048575 non-null  int64  \n 21  Flow IAT Min       1048575 non-null  int64  \n 22  Fwd IAT Tot        1048575 non-null  int64  \n 23  Fwd IAT Mean       1048575 non-null  float64\n 24  Fwd IAT Std        1048575 non-null  float64\n 25  Fwd IAT Max        1048575 non-null  int64  \n 26  Fwd IAT Min        1048575 non-null  int64  \n 27  Bwd IAT Tot        1048575 non-null  int64  \n 28  Bwd IAT Mean       1048575 non-null  float64\n 29  Bwd IAT Std        1048575 non-null  float64\n 30  Bwd IAT Max        1048575 non-null  int64  \n 31  Bwd IAT Min        1048575 non-null  int64  \n 32  Fwd PSH Flags      1048575 non-null  int64  \n 33  Bwd PSH Flags      1048575 non-null  int64  \n 34  Fwd URG Flags      1048575 non-null  int64  \n 35  Bwd URG Flags      1048575 non-null  int64  \n 36  Fwd Header Len     1048575 non-null  int64  \n 37  Bwd Header Len     1048575 non-null  int64  \n 38  Fwd Pkts/s         1048575 non-null  float64\n 39  Bwd Pkts/s         1048575 non-null  float64\n 40  Pkt Len Min        1048575 non-null  int64  \n 41  Pkt Len Max        1048575 non-null  int64  \n 42  Pkt Len Mean       1048575 non-null  float64\n 43  Pkt Len Std        1048575 non-null  float64\n 44  Pkt Len Var        1048575 non-null  float64\n 45  FIN Flag Cnt       1048575 non-null  int64  \n 46  SYN Flag Cnt       1048575 non-null  int64  \n 47  RST Flag Cnt       1048575 non-null  int64  \n 48  PSH Flag Cnt       1048575 non-null  int64  \n 49  ACK Flag Cnt       1048575 non-null  int64  \n 50  URG Flag Cnt       1048575 non-null  int64  \n 51  CWE Flag Count     1048575 non-null  int64  \n 52  ECE Flag Cnt       1048575 non-null  int64  \n 53  Down/Up Ratio      1048575 non-null  int64  \n 54  Pkt Size Avg       1048575 non-null  float64\n 55  Fwd Seg Size Avg   1048575 non-null  float64\n 56  Bwd Seg Size Avg   1048575 non-null  float64\n 57  Fwd Byts/b Avg     1048575 non-null  int64  \n 58  Fwd Pkts/b Avg     1048575 non-null  int64  \n 59  Fwd Blk Rate Avg   1048575 non-null  int64  \n 60  Bwd Byts/b Avg     1048575 non-null  int64  \n 61  Bwd Pkts/b Avg     1048575 non-null  int64  \n 62  Bwd Blk Rate Avg   1048575 non-null  int64  \n 63  Subflow Fwd Pkts   1048575 non-null  int64  \n 64  Subflow Fwd Byts   1048575 non-null  int64  \n 65  Subflow Bwd Pkts   1048575 non-null  int64  \n 66  Subflow Bwd Byts   1048575 non-null  int64  \n 67  Init Fwd Win Byts  1048575 non-null  int64  \n 68  Init Bwd Win Byts  1048575 non-null  int64  \n 69  Fwd Act Data Pkts  1048575 non-null  int64  \n 70  Fwd Seg Size Min   1048575 non-null  int64  \n 71  Active Mean        1048575 non-null  float64\n 72  Active Std         1048575 non-null  float64\n 73  Active Max         1048575 non-null  int64  \n 74  Active Min         1048575 non-null  int64  \n 75  Idle Mean          1048575 non-null  float64\n 76  Idle Std           1048575 non-null  float64\n 77  Idle Max           1048575 non-null  int64  \n 78  Idle Min           1048575 non-null  int64  \n 79  Label              1048575 non-null  object \ndtypes: float64(24), int64(54), object(2)\nmemory usage: 640.0+ MB\n"
     ]
    }
   ],
   "source": [
    "base_df.info()"
   ]
  },
  {
   "cell_type": "code",
   "execution_count": 11,
   "metadata": {},
   "outputs": [],
   "source": [
    "from utilities import get_configs"
   ]
  },
  {
   "cell_type": "code",
   "execution_count": 19,
   "metadata": {},
   "outputs": [],
   "source": [
    "vars = get_configs()\n",
    "df = pd.read_csv(vars[\"BaseDataset\"][\"2018\"])"
   ]
  },
  {
   "cell_type": "code",
   "execution_count": 20,
   "metadata": {},
   "outputs": [
    {
     "output_type": "stream",
     "name": "stdout",
     "text": [
      "<class 'pandas.core.frame.DataFrame'>\nRangeIndex: 1048575 entries, 0 to 1048574\nData columns (total 80 columns):\n #   Column             Non-Null Count    Dtype  \n---  ------             --------------    -----  \n 0   Dst Port           1048575 non-null  int64  \n 1   Protocol           1048575 non-null  int64  \n 2   Timestamp          1048575 non-null  object \n 3   Flow Duration      1048575 non-null  int64  \n 4   Tot Fwd Pkts       1048575 non-null  int64  \n 5   Tot Bwd Pkts       1048575 non-null  int64  \n 6   TotLen Fwd Pkts    1048575 non-null  int64  \n 7   TotLen Bwd Pkts    1048575 non-null  int64  \n 8   Fwd Pkt Len Max    1048575 non-null  int64  \n 9   Fwd Pkt Len Min    1048575 non-null  int64  \n 10  Fwd Pkt Len Mean   1048575 non-null  float64\n 11  Fwd Pkt Len Std    1048575 non-null  float64\n 12  Bwd Pkt Len Max    1048575 non-null  int64  \n 13  Bwd Pkt Len Min    1048575 non-null  int64  \n 14  Bwd Pkt Len Mean   1048575 non-null  float64\n 15  Bwd Pkt Len Std    1048575 non-null  float64\n 16  Flow Byts/s        1048575 non-null  float64\n 17  Flow Pkts/s        1048575 non-null  float64\n 18  Flow IAT Mean      1048575 non-null  float64\n 19  Flow IAT Std       1048575 non-null  float64\n 20  Flow IAT Max       1048575 non-null  int64  \n 21  Flow IAT Min       1048575 non-null  int64  \n 22  Fwd IAT Tot        1048575 non-null  int64  \n 23  Fwd IAT Mean       1048575 non-null  float64\n 24  Fwd IAT Std        1048575 non-null  float64\n 25  Fwd IAT Max        1048575 non-null  int64  \n 26  Fwd IAT Min        1048575 non-null  int64  \n 27  Bwd IAT Tot        1048575 non-null  int64  \n 28  Bwd IAT Mean       1048575 non-null  float64\n 29  Bwd IAT Std        1048575 non-null  float64\n 30  Bwd IAT Max        1048575 non-null  int64  \n 31  Bwd IAT Min        1048575 non-null  int64  \n 32  Fwd PSH Flags      1048575 non-null  int64  \n 33  Bwd PSH Flags      1048575 non-null  int64  \n 34  Fwd URG Flags      1048575 non-null  int64  \n 35  Bwd URG Flags      1048575 non-null  int64  \n 36  Fwd Header Len     1048575 non-null  int64  \n 37  Bwd Header Len     1048575 non-null  int64  \n 38  Fwd Pkts/s         1048575 non-null  float64\n 39  Bwd Pkts/s         1048575 non-null  float64\n 40  Pkt Len Min        1048575 non-null  int64  \n 41  Pkt Len Max        1048575 non-null  int64  \n 42  Pkt Len Mean       1048575 non-null  float64\n 43  Pkt Len Std        1048575 non-null  float64\n 44  Pkt Len Var        1048575 non-null  float64\n 45  FIN Flag Cnt       1048575 non-null  int64  \n 46  SYN Flag Cnt       1048575 non-null  int64  \n 47  RST Flag Cnt       1048575 non-null  int64  \n 48  PSH Flag Cnt       1048575 non-null  int64  \n 49  ACK Flag Cnt       1048575 non-null  int64  \n 50  URG Flag Cnt       1048575 non-null  int64  \n 51  CWE Flag Count     1048575 non-null  int64  \n 52  ECE Flag Cnt       1048575 non-null  int64  \n 53  Down/Up Ratio      1048575 non-null  int64  \n 54  Pkt Size Avg       1048575 non-null  float64\n 55  Fwd Seg Size Avg   1048575 non-null  float64\n 56  Bwd Seg Size Avg   1048575 non-null  float64\n 57  Fwd Byts/b Avg     1048575 non-null  int64  \n 58  Fwd Pkts/b Avg     1048575 non-null  int64  \n 59  Fwd Blk Rate Avg   1048575 non-null  int64  \n 60  Bwd Byts/b Avg     1048575 non-null  int64  \n 61  Bwd Pkts/b Avg     1048575 non-null  int64  \n 62  Bwd Blk Rate Avg   1048575 non-null  int64  \n 63  Subflow Fwd Pkts   1048575 non-null  int64  \n 64  Subflow Fwd Byts   1048575 non-null  int64  \n 65  Subflow Bwd Pkts   1048575 non-null  int64  \n 66  Subflow Bwd Byts   1048575 non-null  int64  \n 67  Init Fwd Win Byts  1048575 non-null  int64  \n 68  Init Bwd Win Byts  1048575 non-null  int64  \n 69  Fwd Act Data Pkts  1048575 non-null  int64  \n 70  Fwd Seg Size Min   1048575 non-null  int64  \n 71  Active Mean        1048575 non-null  float64\n 72  Active Std         1048575 non-null  float64\n 73  Active Max         1048575 non-null  int64  \n 74  Active Min         1048575 non-null  int64  \n 75  Idle Mean          1048575 non-null  float64\n 76  Idle Std           1048575 non-null  float64\n 77  Idle Max           1048575 non-null  int64  \n 78  Idle Min           1048575 non-null  int64  \n 79  Label              1048575 non-null  object \ndtypes: float64(24), int64(54), object(2)\nmemory usage: 640.0+ MB\n"
     ]
    }
   ],
   "source": [
    "df.info()"
   ]
  },
  {
   "cell_type": "code",
   "execution_count": null,
   "metadata": {},
   "outputs": [],
   "source": [
    "\n"
   ]
  }
 ],
 "metadata": {
  "kernelspec": {
   "display_name": "Python 3",
   "language": "python",
   "name": "python3"
  },
  "language_info": {
   "codemirror_mode": {
    "name": "ipython",
    "version": 3
   },
   "file_extension": ".py",
   "mimetype": "text/x-python",
   "name": "python",
   "nbconvert_exporter": "python",
   "pygments_lexer": "ipython3",
   "version": "3.8.5"
  }
 },
 "nbformat": 4,
 "nbformat_minor": 5
}