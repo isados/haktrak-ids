{
 "cells": [
  {
   "source": [
    "## Setup"
   ],
   "cell_type": "markdown",
   "metadata": {}
  },
  {
   "cell_type": "code",
   "execution_count": 1,
   "id": "39d70b9c",
   "metadata": {},
   "outputs": [],
   "source": [
    "import json as js\n",
    "import pandas as pd\n",
    "import numpy as np\n",
    "from pprint import pprint\n",
    "%matplotlib inline"
   ]
  },
  {
   "cell_type": "code",
   "execution_count": 2,
   "metadata": {},
   "outputs": [],
   "source": [
    "# Paths\n",
    "basedataset_path = \"/home/haktrak/Public/DDosHOIC.csv\"\n",
    "owndataset_path = \"CompanyDataset/example.pcap_Flow.csv\""
   ]
  },
  {
   "source": [
    "## Read datasets"
   ],
   "cell_type": "markdown",
   "metadata": {}
  },
  {
   "cell_type": "code",
   "execution_count": 3,
   "id": "443cdb7d",
   "metadata": {},
   "outputs": [
    {
     "output_type": "execute_result",
     "data": {
      "text/plain": [
       "   Dst Port  Protocol            Timestamp  Flow Duration  Tot Fwd Pkts  \\\n",
       "0        80         6  21/02/2018 08:33:25          37953             5   \n",
       "1       500        17  21/02/2018 08:33:06      117573474             3   \n",
       "2       500        17  21/02/2018 08:33:06      117573474             3   \n",
       "3       500        17  21/02/2018 08:33:11       99743998             5   \n",
       "4       500        17  21/02/2018 08:33:11       99743999             5   \n",
       "\n",
       "   Tot Bwd Pkts  TotLen Fwd Pkts  TotLen Bwd Pkts  Fwd Pkt Len Max  \\\n",
       "0             3              135              127              135   \n",
       "1             0             1500                0              500   \n",
       "2             0             1500                0              500   \n",
       "3             0             2500                0              500   \n",
       "4             0             2500                0              500   \n",
       "\n",
       "   Fwd Pkt Len Min  ...  Fwd Seg Size Min  Active Mean  Active Std  \\\n",
       "0                0  ...                32          0.0         0.0   \n",
       "1              500  ...                 8          0.0         0.0   \n",
       "2              500  ...                 8          0.0         0.0   \n",
       "3              500  ...                 8    4000290.0         0.0   \n",
       "4              500  ...                 8    4000286.0         0.0   \n",
       "\n",
       "   Active Max  Active Min   Idle Mean    Idle Std  Idle Max  Idle Min   Label  \n",
       "0           0           0         0.0         0.0         0         0  Benign  \n",
       "1           0           0  58800000.0  23800000.0  75600000  42000000  Benign  \n",
       "2           0           0  58800000.0  23800000.0  75600000  42000000  Benign  \n",
       "3     4000290     4000290  31900000.0  37900000.0  75600000   7200397  Benign  \n",
       "4     4000286     4000286  31900000.0  37900000.0  75600000   7200399  Benign  \n",
       "\n",
       "[5 rows x 80 columns]"
      ],
      "text/html": "<div>\n<style scoped>\n    .dataframe tbody tr th:only-of-type {\n        vertical-align: middle;\n    }\n\n    .dataframe tbody tr th {\n        vertical-align: top;\n    }\n\n    .dataframe thead th {\n        text-align: right;\n    }\n</style>\n<table border=\"1\" class=\"dataframe\">\n  <thead>\n    <tr style=\"text-align: right;\">\n      <th></th>\n      <th>Dst Port</th>\n      <th>Protocol</th>\n      <th>Timestamp</th>\n      <th>Flow Duration</th>\n      <th>Tot Fwd Pkts</th>\n      <th>Tot Bwd Pkts</th>\n      <th>TotLen Fwd Pkts</th>\n      <th>TotLen Bwd Pkts</th>\n      <th>Fwd Pkt Len Max</th>\n      <th>Fwd Pkt Len Min</th>\n      <th>...</th>\n      <th>Fwd Seg Size Min</th>\n      <th>Active Mean</th>\n      <th>Active Std</th>\n      <th>Active Max</th>\n      <th>Active Min</th>\n      <th>Idle Mean</th>\n      <th>Idle Std</th>\n      <th>Idle Max</th>\n      <th>Idle Min</th>\n      <th>Label</th>\n    </tr>\n  </thead>\n  <tbody>\n    <tr>\n      <th>0</th>\n      <td>80</td>\n      <td>6</td>\n      <td>21/02/2018 08:33:25</td>\n      <td>37953</td>\n      <td>5</td>\n      <td>3</td>\n      <td>135</td>\n      <td>127</td>\n      <td>135</td>\n      <td>0</td>\n      <td>...</td>\n      <td>32</td>\n      <td>0.0</td>\n      <td>0.0</td>\n      <td>0</td>\n      <td>0</td>\n      <td>0.0</td>\n      <td>0.0</td>\n      <td>0</td>\n      <td>0</td>\n      <td>Benign</td>\n    </tr>\n    <tr>\n      <th>1</th>\n      <td>500</td>\n      <td>17</td>\n      <td>21/02/2018 08:33:06</td>\n      <td>117573474</td>\n      <td>3</td>\n      <td>0</td>\n      <td>1500</td>\n      <td>0</td>\n      <td>500</td>\n      <td>500</td>\n      <td>...</td>\n      <td>8</td>\n      <td>0.0</td>\n      <td>0.0</td>\n      <td>0</td>\n      <td>0</td>\n      <td>58800000.0</td>\n      <td>23800000.0</td>\n      <td>75600000</td>\n      <td>42000000</td>\n      <td>Benign</td>\n    </tr>\n    <tr>\n      <th>2</th>\n      <td>500</td>\n      <td>17</td>\n      <td>21/02/2018 08:33:06</td>\n      <td>117573474</td>\n      <td>3</td>\n      <td>0</td>\n      <td>1500</td>\n      <td>0</td>\n      <td>500</td>\n      <td>500</td>\n      <td>...</td>\n      <td>8</td>\n      <td>0.0</td>\n      <td>0.0</td>\n      <td>0</td>\n      <td>0</td>\n      <td>58800000.0</td>\n      <td>23800000.0</td>\n      <td>75600000</td>\n      <td>42000000</td>\n      <td>Benign</td>\n    </tr>\n    <tr>\n      <th>3</th>\n      <td>500</td>\n      <td>17</td>\n      <td>21/02/2018 08:33:11</td>\n      <td>99743998</td>\n      <td>5</td>\n      <td>0</td>\n      <td>2500</td>\n      <td>0</td>\n      <td>500</td>\n      <td>500</td>\n      <td>...</td>\n      <td>8</td>\n      <td>4000290.0</td>\n      <td>0.0</td>\n      <td>4000290</td>\n      <td>4000290</td>\n      <td>31900000.0</td>\n      <td>37900000.0</td>\n      <td>75600000</td>\n      <td>7200397</td>\n      <td>Benign</td>\n    </tr>\n    <tr>\n      <th>4</th>\n      <td>500</td>\n      <td>17</td>\n      <td>21/02/2018 08:33:11</td>\n      <td>99743999</td>\n      <td>5</td>\n      <td>0</td>\n      <td>2500</td>\n      <td>0</td>\n      <td>500</td>\n      <td>500</td>\n      <td>...</td>\n      <td>8</td>\n      <td>4000286.0</td>\n      <td>0.0</td>\n      <td>4000286</td>\n      <td>4000286</td>\n      <td>31900000.0</td>\n      <td>37900000.0</td>\n      <td>75600000</td>\n      <td>7200399</td>\n      <td>Benign</td>\n    </tr>\n  </tbody>\n</table>\n<p>5 rows × 80 columns</p>\n</div>"
     },
     "metadata": {},
     "execution_count": 3
    }
   ],
   "source": [
    "base_df = pd.read_csv(basedataset_path)\n",
    "base_df.head()"
   ]
  },
  {
   "cell_type": "code",
   "execution_count": 4,
   "metadata": {},
   "outputs": [
    {
     "output_type": "execute_result",
     "data": {
      "text/plain": [
       "                                      Flow ID           Src IP  Src Port  \\\n",
       "0    192.168.100.169-224.0.0.251-5353-5353-17  192.168.100.169      5353   \n",
       "1   192.168.100.62-142.250.181.65-46494-443-6   192.168.100.62     46494   \n",
       "2   192.168.100.62-142.250.200.99-58368-443-6   192.168.100.62     58368   \n",
       "3  108.177.15.189-192.168.100.62-443-39282-17   108.177.15.189       443   \n",
       "4   192.168.100.62-151.101.12.193-49296-443-6   192.168.100.62     49296   \n",
       "\n",
       "           Dst IP  Dst Port  Protocol               Timestamp  Flow Duration  \\\n",
       "0     224.0.0.251      5353        17  23/05/2021 03:35:34 PM       45436508   \n",
       "1  142.250.181.65       443         6  23/05/2021 03:35:33 PM          55690   \n",
       "2  142.250.200.99       443         6  23/05/2021 03:35:34 PM         171127   \n",
       "3  192.168.100.62     39282        17  23/05/2021 03:35:41 PM       38458246   \n",
       "4  151.101.12.193       443         6  23/05/2021 03:35:32 PM          96223   \n",
       "\n",
       "   Total Fwd Packet  Total Bwd packets  ...  Fwd Seg Size Min   Active Mean  \\\n",
       "0                 5                  0  ...                 8  1.326775e+06   \n",
       "1                 2                  2  ...                32  0.000000e+00   \n",
       "2                 2                  2  ...                32  0.000000e+00   \n",
       "3                10                  7  ...                 8  4.435683e+05   \n",
       "4                 2                  2  ...                32  0.000000e+00   \n",
       "\n",
       "      Active Std  Active Max  Active Min     Idle Mean      Idle Std  \\\n",
       "0       0.000000   1326775.0   1326775.0  5.405911e+14  9.363313e+14   \n",
       "1       0.000000         0.0         0.0  1.621773e+15  0.000000e+00   \n",
       "2       0.000000         0.0         0.0  1.621773e+15  0.000000e+00   \n",
       "3  732280.485615   1289133.0     20712.0  4.054433e+14  8.108867e+14   \n",
       "4       0.000000         0.0         0.0  1.621773e+15  0.000000e+00   \n",
       "\n",
       "       Idle Max      Idle Min            Label  \n",
       "0  1.621773e+15  1.967143e+07  NeedManualLabel  \n",
       "1  1.621773e+15  1.621773e+15  NeedManualLabel  \n",
       "2  1.621773e+15  1.621773e+15  NeedManualLabel  \n",
       "3  1.621773e+15  9.134783e+06  NeedManualLabel  \n",
       "4  1.621773e+15  1.621773e+15  NeedManualLabel  \n",
       "\n",
       "[5 rows x 84 columns]"
      ],
      "text/html": "<div>\n<style scoped>\n    .dataframe tbody tr th:only-of-type {\n        vertical-align: middle;\n    }\n\n    .dataframe tbody tr th {\n        vertical-align: top;\n    }\n\n    .dataframe thead th {\n        text-align: right;\n    }\n</style>\n<table border=\"1\" class=\"dataframe\">\n  <thead>\n    <tr style=\"text-align: right;\">\n      <th></th>\n      <th>Flow ID</th>\n      <th>Src IP</th>\n      <th>Src Port</th>\n      <th>Dst IP</th>\n      <th>Dst Port</th>\n      <th>Protocol</th>\n      <th>Timestamp</th>\n      <th>Flow Duration</th>\n      <th>Total Fwd Packet</th>\n      <th>Total Bwd packets</th>\n      <th>...</th>\n      <th>Fwd Seg Size Min</th>\n      <th>Active Mean</th>\n      <th>Active Std</th>\n      <th>Active Max</th>\n      <th>Active Min</th>\n      <th>Idle Mean</th>\n      <th>Idle Std</th>\n      <th>Idle Max</th>\n      <th>Idle Min</th>\n      <th>Label</th>\n    </tr>\n  </thead>\n  <tbody>\n    <tr>\n      <th>0</th>\n      <td>192.168.100.169-224.0.0.251-5353-5353-17</td>\n      <td>192.168.100.169</td>\n      <td>5353</td>\n      <td>224.0.0.251</td>\n      <td>5353</td>\n      <td>17</td>\n      <td>23/05/2021 03:35:34 PM</td>\n      <td>45436508</td>\n      <td>5</td>\n      <td>0</td>\n      <td>...</td>\n      <td>8</td>\n      <td>1.326775e+06</td>\n      <td>0.000000</td>\n      <td>1326775.0</td>\n      <td>1326775.0</td>\n      <td>5.405911e+14</td>\n      <td>9.363313e+14</td>\n      <td>1.621773e+15</td>\n      <td>1.967143e+07</td>\n      <td>NeedManualLabel</td>\n    </tr>\n    <tr>\n      <th>1</th>\n      <td>192.168.100.62-142.250.181.65-46494-443-6</td>\n      <td>192.168.100.62</td>\n      <td>46494</td>\n      <td>142.250.181.65</td>\n      <td>443</td>\n      <td>6</td>\n      <td>23/05/2021 03:35:33 PM</td>\n      <td>55690</td>\n      <td>2</td>\n      <td>2</td>\n      <td>...</td>\n      <td>32</td>\n      <td>0.000000e+00</td>\n      <td>0.000000</td>\n      <td>0.0</td>\n      <td>0.0</td>\n      <td>1.621773e+15</td>\n      <td>0.000000e+00</td>\n      <td>1.621773e+15</td>\n      <td>1.621773e+15</td>\n      <td>NeedManualLabel</td>\n    </tr>\n    <tr>\n      <th>2</th>\n      <td>192.168.100.62-142.250.200.99-58368-443-6</td>\n      <td>192.168.100.62</td>\n      <td>58368</td>\n      <td>142.250.200.99</td>\n      <td>443</td>\n      <td>6</td>\n      <td>23/05/2021 03:35:34 PM</td>\n      <td>171127</td>\n      <td>2</td>\n      <td>2</td>\n      <td>...</td>\n      <td>32</td>\n      <td>0.000000e+00</td>\n      <td>0.000000</td>\n      <td>0.0</td>\n      <td>0.0</td>\n      <td>1.621773e+15</td>\n      <td>0.000000e+00</td>\n      <td>1.621773e+15</td>\n      <td>1.621773e+15</td>\n      <td>NeedManualLabel</td>\n    </tr>\n    <tr>\n      <th>3</th>\n      <td>108.177.15.189-192.168.100.62-443-39282-17</td>\n      <td>108.177.15.189</td>\n      <td>443</td>\n      <td>192.168.100.62</td>\n      <td>39282</td>\n      <td>17</td>\n      <td>23/05/2021 03:35:41 PM</td>\n      <td>38458246</td>\n      <td>10</td>\n      <td>7</td>\n      <td>...</td>\n      <td>8</td>\n      <td>4.435683e+05</td>\n      <td>732280.485615</td>\n      <td>1289133.0</td>\n      <td>20712.0</td>\n      <td>4.054433e+14</td>\n      <td>8.108867e+14</td>\n      <td>1.621773e+15</td>\n      <td>9.134783e+06</td>\n      <td>NeedManualLabel</td>\n    </tr>\n    <tr>\n      <th>4</th>\n      <td>192.168.100.62-151.101.12.193-49296-443-6</td>\n      <td>192.168.100.62</td>\n      <td>49296</td>\n      <td>151.101.12.193</td>\n      <td>443</td>\n      <td>6</td>\n      <td>23/05/2021 03:35:32 PM</td>\n      <td>96223</td>\n      <td>2</td>\n      <td>2</td>\n      <td>...</td>\n      <td>32</td>\n      <td>0.000000e+00</td>\n      <td>0.000000</td>\n      <td>0.0</td>\n      <td>0.0</td>\n      <td>1.621773e+15</td>\n      <td>0.000000e+00</td>\n      <td>1.621773e+15</td>\n      <td>1.621773e+15</td>\n      <td>NeedManualLabel</td>\n    </tr>\n  </tbody>\n</table>\n<p>5 rows × 84 columns</p>\n</div>"
     },
     "metadata": {},
     "execution_count": 4
    }
   ],
   "source": [
    "own_df = pd.read_csv(owndataset_path)\n",
    "own_df.head()"
   ]
  },
  {
   "source": [
    "## Make Comparison"
   ],
   "cell_type": "markdown",
   "metadata": {}
  },
  {
   "cell_type": "code",
   "execution_count": 5,
   "metadata": {},
   "outputs": [
    {
     "output_type": "stream",
     "name": "stdout",
     "text": [
      "Index(['Dst Port', 'Protocol', 'Timestamp', 'Flow Duration', 'Tot Fwd Pkts',\n       'Tot Bwd Pkts', 'TotLen Fwd Pkts', 'TotLen Bwd Pkts', 'Fwd Pkt Len Max',\n       'Fwd Pkt Len Min', 'Fwd Pkt Len Mean', 'Fwd Pkt Len Std',\n       'Bwd Pkt Len Max', 'Bwd Pkt Len Min', 'Bwd Pkt Len Mean',\n       'Bwd Pkt Len Std', 'Flow Byts/s', 'Flow Pkts/s', 'Flow IAT Mean',\n       'Flow IAT Std', 'Flow IAT Max', 'Flow IAT Min', 'Fwd IAT Tot',\n       'Fwd IAT Mean', 'Fwd IAT Std', 'Fwd IAT Max', 'Fwd IAT Min',\n       'Bwd IAT Tot', 'Bwd IAT Mean', 'Bwd IAT Std', 'Bwd IAT Max',\n       'Bwd IAT Min', 'Fwd PSH Flags', 'Bwd PSH Flags', 'Fwd URG Flags',\n       'Bwd URG Flags', 'Fwd Header Len', 'Bwd Header Len', 'Fwd Pkts/s',\n       'Bwd Pkts/s', 'Pkt Len Min', 'Pkt Len Max', 'Pkt Len Mean',\n       'Pkt Len Std', 'Pkt Len Var', 'FIN Flag Cnt', 'SYN Flag Cnt',\n       'RST Flag Cnt', 'PSH Flag Cnt', 'ACK Flag Cnt', 'URG Flag Cnt',\n       'CWE Flag Count', 'ECE Flag Cnt', 'Down/Up Ratio', 'Pkt Size Avg',\n       'Fwd Seg Size Avg', 'Bwd Seg Size Avg', 'Fwd Byts/b Avg',\n       'Fwd Pkts/b Avg', 'Fwd Blk Rate Avg', 'Bwd Byts/b Avg',\n       'Bwd Pkts/b Avg', 'Bwd Blk Rate Avg', 'Subflow Fwd Pkts',\n       'Subflow Fwd Byts', 'Subflow Bwd Pkts', 'Subflow Bwd Byts',\n       'Init Fwd Win Byts', 'Init Bwd Win Byts', 'Fwd Act Data Pkts',\n       'Fwd Seg Size Min', 'Active Mean', 'Active Std', 'Active Max',\n       'Active Min', 'Idle Mean', 'Idle Std', 'Idle Max', 'Idle Min', 'Label'],\n      dtype='object')\nIndex(['Flow ID', 'Src IP', 'Src Port', 'Dst IP', 'Dst Port', 'Protocol',\n       'Timestamp', 'Flow Duration', 'Total Fwd Packet', 'Total Bwd packets',\n       'Total Length of Fwd Packet', 'Total Length of Bwd Packet',\n       'Fwd Packet Length Max', 'Fwd Packet Length Min',\n       'Fwd Packet Length Mean', 'Fwd Packet Length Std',\n       'Bwd Packet Length Max', 'Bwd Packet Length Min',\n       'Bwd Packet Length Mean', 'Bwd Packet Length Std', 'Flow Bytes/s',\n       'Flow Packets/s', 'Flow IAT Mean', 'Flow IAT Std', 'Flow IAT Max',\n       'Flow IAT Min', 'Fwd IAT Total', 'Fwd IAT Mean', 'Fwd IAT Std',\n       'Fwd IAT Max', 'Fwd IAT Min', 'Bwd IAT Total', 'Bwd IAT Mean',\n       'Bwd IAT Std', 'Bwd IAT Max', 'Bwd IAT Min', 'Fwd PSH Flags',\n       'Bwd PSH Flags', 'Fwd URG Flags', 'Bwd URG Flags', 'Fwd Header Length',\n       'Bwd Header Length', 'Fwd Packets/s', 'Bwd Packets/s',\n       'Packet Length Min', 'Packet Length Max', 'Packet Length Mean',\n       'Packet Length Std', 'Packet Length Variance', 'FIN Flag Count',\n       'SYN Flag Count', 'RST Flag Count', 'PSH Flag Count', 'ACK Flag Count',\n       'URG Flag Count', 'CWR Flag Count', 'ECE Flag Count', 'Down/Up Ratio',\n       'Average Packet Size', 'Fwd Segment Size Avg', 'Bwd Segment Size Avg',\n       'Fwd Bytes/Bulk Avg', 'Fwd Packet/Bulk Avg', 'Fwd Bulk Rate Avg',\n       'Bwd Bytes/Bulk Avg', 'Bwd Packet/Bulk Avg', 'Bwd Bulk Rate Avg',\n       'Subflow Fwd Packets', 'Subflow Fwd Bytes', 'Subflow Bwd Packets',\n       'Subflow Bwd Bytes', 'FWD Init Win Bytes', 'Bwd Init Win Bytes',\n       'Fwd Act Data Pkts', 'Fwd Seg Size Min', 'Active Mean', 'Active Std',\n       'Active Max', 'Active Min', 'Idle Mean', 'Idle Std', 'Idle Max',\n       'Idle Min', 'Label'],\n      dtype='object')\n"
     ]
    }
   ],
   "source": [
    "print(base_df.columns)\n",
    "print(own_df.columns)"
   ]
  },
  {
   "cell_type": "code",
   "execution_count": 6,
   "metadata": {},
   "outputs": [
    {
     "output_type": "stream",
     "name": "stdout",
     "text": [
      "Number of Base Dataset Columns: 80\nNumber of Own Dataset Columns: 84\n"
     ]
    }
   ],
   "source": [
    "# Before processing columns\n",
    "print(\"Number of Base Dataset Columns:\", len(base_df.columns))\n",
    "print(\"Number of Own Dataset Columns:\", len(own_df.columns))"
   ]
  },
  {
   "cell_type": "code",
   "execution_count": 7,
   "metadata": {},
   "outputs": [
    {
     "output_type": "stream",
     "name": "stdout",
     "text": [
      "{'FIN Flag Count', 'Fwd Packet/Bulk Avg', 'SYN Flag Count', 'Packet Length Max', 'Fwd Segment Size Avg', 'Fwd Packet Length Max', 'Flow Packets/s', 'Bwd IAT Total', 'Fwd IAT Total', 'Fwd Packet Length Min', 'Src IP', 'Bwd Packet Length Min', 'Bwd Packet Length Mean', 'PSH Flag Count', 'FWD Init Win Bytes', 'Bwd Packets/s', 'Bwd Header Length', 'ACK Flag Count', 'Flow ID', 'Total Length of Fwd Packet', 'RST Flag Count', 'Total Bwd packets', 'Average Packet Size', 'Packet Length Std', 'Dst IP', 'URG Flag Count', 'Fwd Bulk Rate Avg', 'Packet Length Min', 'Packet Length Variance', 'Packet Length Mean', 'Src Port', 'Bwd Segment Size Avg', 'Flow Bytes/s', 'Subflow Bwd Bytes', 'Subflow Fwd Bytes', 'Bwd Packet/Bulk Avg', 'Fwd Packet Length Std', 'Bwd Bytes/Bulk Avg', 'Fwd Packets/s', 'Bwd Init Win Bytes', 'Fwd Packet Length Mean', 'Subflow Fwd Packets', 'CWR Flag Count', 'Total Length of Bwd Packet', 'Bwd Packet Length Std', 'ECE Flag Count', 'Fwd Bytes/Bulk Avg', 'Bwd Bulk Rate Avg', 'Bwd Packet Length Max', 'Total Fwd Packet', 'Fwd Header Length', 'Subflow Bwd Packets'}\n\n{'Bwd IAT Tot', 'SYN Flag Cnt', 'Fwd Byts/b Avg', 'RST Flag Cnt', 'Fwd Header Len', 'Pkt Len Std', 'Bwd Pkt Len Mean', 'Bwd Header Len', 'CWE Flag Count', 'Pkt Len Max', 'Fwd IAT Tot', 'Pkt Size Avg', 'Fwd Pkts/s', 'Fwd Pkt Len Max', 'URG Flag Cnt', 'ECE Flag Cnt', 'Bwd Blk Rate Avg', 'Tot Bwd Pkts', 'Subflow Fwd Byts', 'Fwd Blk Rate Avg', 'Fwd Pkts/b Avg', 'Subflow Bwd Pkts', 'Pkt Len Var', 'Bwd Byts/b Avg', 'Subflow Fwd Pkts', 'Flow Pkts/s', 'TotLen Bwd Pkts', 'Pkt Len Mean', 'Fwd Pkt Len Mean', 'Bwd Pkt Len Max', 'Bwd Seg Size Avg', 'Pkt Len Min', 'Init Bwd Win Byts', 'Bwd Pkts/b Avg', 'ACK Flag Cnt', 'Bwd Pkt Len Std', 'Bwd Pkts/s', 'Flow Byts/s', 'Fwd Pkt Len Min', 'FIN Flag Cnt', 'Fwd Pkt Len Std', 'Bwd Pkt Len Min', 'Tot Fwd Pkts', 'PSH Flag Cnt', 'Init Fwd Win Byts', 'Subflow Bwd Byts', 'TotLen Fwd Pkts', 'Fwd Seg Size Avg'}\n"
     ]
    }
   ],
   "source": [
    "baseset = set(base_df.columns)\n",
    "ownset = set(own_df.columns)\n",
    "\n",
    "print(ownset-baseset)\n",
    "print()\n",
    "print(baseset-ownset)"
   ]
  },
  {
   "source": [
    "## Replacement of column names to standard CIC-IDS-2018 using `fuzzywuzzy`"
   ],
   "cell_type": "markdown",
   "metadata": {}
  },
  {
   "cell_type": "code",
   "execution_count": 8,
   "metadata": {},
   "outputs": [],
   "source": [
    "\"\"\"Install the following packages\"\"\"\n",
    "# !python3 -m pip install fuzzywuzzy python-Levenshtein\n",
    "\n",
    "from fuzzywuzzy import fuzz\n",
    "from fuzzywuzzy import process"
   ]
  },
  {
   "cell_type": "code",
   "execution_count": 9,
   "metadata": {},
   "outputs": [
    {
     "output_type": "stream",
     "name": "stdout",
     "text": [
      "\nNumber of Columns to correct : 52\nNumber of corrected labels from `token_sort_ratio` : 48\n"
     ]
    }
   ],
   "source": [
    "# Create a replacement mapping dictionary\n",
    "different_colnames = ownset - baseset\n",
    "\n",
    "# Pick scorer for the fuzzy matching\n",
    "scorer = fuzz.token_sort_ratio\n",
    "score_limit = 65\n",
    "\n",
    "corrected_labels_map = {}\n",
    "\n",
    "for column_name in different_colnames:\n",
    "    correct_name = process.extractOne(column_name, baseset, scorer=scorer)\n",
    "    if correct_name[1] < score_limit:\n",
    "        continue # so basically skip\n",
    "    corrected_labels_map[column_name] = correct_name # add to mapping\n",
    "    \n",
    "\n",
    "print(f\"\\nNumber of Columns to correct : {len(different_colnames)}\")\n",
    "print(f\"Number of corrected labels from `{scorer.__name__}` : {len(corrected_labels_map)}\")\n",
    "\n",
    "\n",
    "# print(f\"{column_name} -> {result[0]} : Score {result[1]}\")"
   ]
  },
  {
   "cell_type": "code",
   "execution_count": 10,
   "metadata": {},
   "outputs": [
    {
     "output_type": "stream",
     "name": "stdout",
     "text": [
      "[('FWD Init Win Bytes', ('Init Fwd Win Byts', 97)),\n ('Fwd Bulk Rate Avg', ('Fwd Blk Rate Avg', 97)),\n ('Subflow Bwd Bytes', ('Subflow Bwd Byts', 97)),\n ('Subflow Fwd Bytes', ('Subflow Fwd Byts', 97)),\n ('Bwd Init Win Bytes', ('Init Bwd Win Byts', 97)),\n ('Bwd Bulk Rate Avg', ('Bwd Blk Rate Avg', 97)),\n ('Flow Bytes/s', ('Flow Byts/s', 96)),\n ('CWR Flag Count', ('CWE Flag Count', 93)),\n ('ECE Flag Count', ('CWE Flag Count', 93)),\n ('FIN Flag Count', ('FIN Flag Cnt', 92)),\n ('SYN Flag Count', ('SYN Flag Cnt', 92)),\n ('Bwd IAT Total', ('Bwd IAT Tot', 92)),\n ('Fwd IAT Total', ('Fwd IAT Tot', 92)),\n ('PSH Flag Count', ('PSH Flag Cnt', 92)),\n ('ACK Flag Count', ('ACK Flag Cnt', 92)),\n ('RST Flag Count', ('RST Flag Cnt', 92)),\n ('URG Flag Count', ('URG Flag Cnt', 92)),\n ('Subflow Fwd Packets', ('Subflow Fwd Pkts', 91)),\n ('Subflow Bwd Packets', ('Subflow Bwd Pkts', 91)),\n ('Bwd Header Length', ('Bwd Header Len', 90)),\n ('Fwd Header Length', ('Fwd Header Len', 90)),\n ('Fwd Segment Size Avg', ('Fwd Seg Size Avg', 89)),\n ('Bwd Segment Size Avg', ('Bwd Seg Size Avg', 89)),\n ('Flow Packets/s', ('Flow Pkts/s', 88)),\n ('Bwd Bytes/Bulk Avg', ('Bwd Byts/b Avg', 88)),\n ('Fwd Bytes/Bulk Avg', ('Fwd Byts/b Avg', 88)),\n ('Bwd Packets/s', ('Bwd Pkts/s', 87)),\n ('Fwd Packets/s', ('Fwd Pkts/s', 87)),\n ('Bwd Packet Length Mean', ('Bwd Pkt Len Mean', 84)),\n ('Fwd Packet Length Mean', ('Fwd Pkt Len Mean', 84)),\n ('Fwd Packet Length Max', ('Fwd Pkt Len Max', 83)),\n ('Fwd Packet Length Min', ('Fwd Pkt Len Min', 83)),\n ('Bwd Packet Length Min', ('Bwd Pkt Len Min', 83)),\n ('Total Bwd packets', ('Tot Bwd Pkts', 83)),\n ('Fwd Packet Length Std', ('Fwd Pkt Len Std', 83)),\n ('Bwd Packet Length Std', ('Bwd Pkt Len Std', 83)),\n ('Bwd Packet Length Max', ('Bwd Pkt Len Max', 83)),\n ('Fwd Packet/Bulk Avg', ('Fwd Blk Rate Avg', 80)),\n ('Packet Length Mean', ('Pkt Len Mean', 80)),\n ('Bwd Packet/Bulk Avg', ('Bwd Blk Rate Avg', 80)),\n ('Packet Length Max', ('Pkt Len Max', 79)),\n ('Packet Length Std', ('Pkt Len Std', 79)),\n ('Packet Length Min', ('Pkt Len Min', 79)),\n ('Total Fwd Packet', ('Tot Fwd Pkts', 79)),\n ('Average Packet Size', ('Pkt Size Avg', 77)),\n ('Flow ID', ('Flow IAT Std', 74)),\n ('Dst IP', ('Dst Port', 71)),\n ('Packet Length Variance', ('Pkt Len Var', 67))]\n"
     ]
    }
   ],
   "source": [
    "names = corrected_labels_map.items()\n",
    "pprint(sorted(names, key=lambda x : x[1][1], reverse=True))\n",
    "corrected_labels_map = dict({entry[0]: entry[1][0] for entry in corrected_labels_map.items()})"
   ]
  },
  {
   "cell_type": "code",
   "execution_count": 11,
   "metadata": {},
   "outputs": [
    {
     "output_type": "execute_result",
     "data": {
      "text/plain": [
       "{'Bwd Packet/Bulk Avg',\n",
       " 'Dst IP',\n",
       " 'ECE Flag Count',\n",
       " 'Flow ID',\n",
       " 'Fwd Packet/Bulk Avg',\n",
       " 'Src IP',\n",
       " 'Src Port',\n",
       " 'Total Length of Bwd Packet',\n",
       " 'Total Length of Fwd Packet'}"
      ]
     },
     "metadata": {},
     "execution_count": 11
    }
   ],
   "source": [
    "# Rejected certain corrections from it\n",
    "keys = ['Flow ID', 'Dst IP', 'Bwd Packet/Bulk Avg', 'Fwd Packet/Bulk Avg', 'ECE Flag Count']\n",
    "for key in keys:\n",
    "    del corrected_labels_map[key]\n",
    "remaining_cols = ownset - corrected_labels_map.keys()\n",
    "remaining_cols - baseset"
   ]
  },
  {
   "cell_type": "code",
   "execution_count": 12,
   "metadata": {},
   "outputs": [],
   "source": [
    "# Manual Changes\n",
    "change = {'Bwd Packet/Bulk Avg' : 'Bwd Pkts/b Avg',\n",
    " 'ECE Flag Count': 'ECE Flag Cnt',\n",
    " 'Fwd Packet/Bulk Avg': 'Fwd Pkts/b Avg',\n",
    " 'Total Length of Bwd Packet': 'TotLen Bwd Pkts',\n",
    " 'Total Length of Fwd Packet': 'TotLen Fwd Pkts'}\n",
    "\n",
    "corrected_labels_map.update(change)"
   ]
  },
  {
   "cell_type": "code",
   "execution_count": 13,
   "metadata": {},
   "outputs": [
    {
     "output_type": "execute_result",
     "data": {
      "text/plain": [
       "{'Dst IP', 'Flow ID', 'Src IP', 'Src Port'}"
      ]
     },
     "metadata": {},
     "execution_count": 13
    }
   ],
   "source": [
    "# Drop columns\n",
    "extra_cols = ownset - corrected_labels_map.keys() - baseset\n",
    "own_df.drop(extra_cols, axis=1, inplace=True)\n",
    "extra_cols"
   ]
  },
  {
   "cell_type": "code",
   "execution_count": 14,
   "metadata": {},
   "outputs": [
    {
     "output_type": "execute_result",
     "data": {
      "text/plain": [
       "Index(['Dst Port', 'Protocol', 'Timestamp', 'Flow Duration', 'Tot Fwd Pkts',\n",
       "       'Tot Bwd Pkts', 'TotLen Fwd Pkts', 'TotLen Bwd Pkts', 'Fwd Pkt Len Max',\n",
       "       'Fwd Pkt Len Min', 'Fwd Pkt Len Mean', 'Fwd Pkt Len Std',\n",
       "       'Bwd Pkt Len Max', 'Bwd Pkt Len Min', 'Bwd Pkt Len Mean',\n",
       "       'Bwd Pkt Len Std', 'Flow Byts/s', 'Flow Pkts/s', 'Flow IAT Mean',\n",
       "       'Flow IAT Std', 'Flow IAT Max', 'Flow IAT Min', 'Fwd IAT Tot',\n",
       "       'Fwd IAT Mean', 'Fwd IAT Std', 'Fwd IAT Max', 'Fwd IAT Min',\n",
       "       'Bwd IAT Tot', 'Bwd IAT Mean', 'Bwd IAT Std', 'Bwd IAT Max',\n",
       "       'Bwd IAT Min', 'Fwd PSH Flags', 'Bwd PSH Flags', 'Fwd URG Flags',\n",
       "       'Bwd URG Flags', 'Fwd Header Len', 'Bwd Header Len', 'Fwd Pkts/s',\n",
       "       'Bwd Pkts/s', 'Pkt Len Min', 'Pkt Len Max', 'Pkt Len Mean',\n",
       "       'Pkt Len Std', 'Pkt Len Var', 'FIN Flag Cnt', 'SYN Flag Cnt',\n",
       "       'RST Flag Cnt', 'PSH Flag Cnt', 'ACK Flag Cnt', 'URG Flag Cnt',\n",
       "       'CWE Flag Count', 'ECE Flag Cnt', 'Down/Up Ratio', 'Pkt Size Avg',\n",
       "       'Fwd Seg Size Avg', 'Bwd Seg Size Avg', 'Fwd Byts/b Avg',\n",
       "       'Fwd Pkts/b Avg', 'Fwd Blk Rate Avg', 'Bwd Byts/b Avg',\n",
       "       'Bwd Pkts/b Avg', 'Bwd Blk Rate Avg', 'Subflow Fwd Pkts',\n",
       "       'Subflow Fwd Byts', 'Subflow Bwd Pkts', 'Subflow Bwd Byts',\n",
       "       'Init Fwd Win Byts', 'Init Bwd Win Byts', 'Fwd Act Data Pkts',\n",
       "       'Fwd Seg Size Min', 'Active Mean', 'Active Std', 'Active Max',\n",
       "       'Active Min', 'Idle Mean', 'Idle Std', 'Idle Max', 'Idle Min', 'Label'],\n",
       "      dtype='object')"
      ]
     },
     "metadata": {},
     "execution_count": 14
    }
   ],
   "source": [
    "# Finally replace columns\n",
    "own_df.columns = own_df.columns.map(lambda bad_col: corrected_labels_map.get(bad_col, bad_col))\n",
    "own_df.columns"
   ]
  },
  {
   "source": [
    "Verify if any mistmatching columns"
   ],
   "cell_type": "markdown",
   "metadata": {}
  },
  {
   "cell_type": "code",
   "execution_count": 15,
   "metadata": {},
   "outputs": [
    {
     "output_type": "stream",
     "name": "stdout",
     "text": [
      "set()\n"
     ]
    }
   ],
   "source": [
    "print(set(own_df.columns)-set(base_df.columns))"
   ]
  },
  {
   "cell_type": "code",
   "execution_count": 16,
   "metadata": {},
   "outputs": [
    {
     "output_type": "stream",
     "name": "stdout",
     "text": [
      "set()\n"
     ]
    }
   ],
   "source": [
    "print(set(base_df.columns)-set(own_df.columns))"
   ]
  },
  {
   "source": [
    "Empty sets, therefore no mismatch. Done!"
   ],
   "cell_type": "markdown",
   "metadata": {}
  }
 ],
 "metadata": {
  "kernelspec": {
   "display_name": "Python 3",
   "language": "python",
   "name": "python3"
  },
  "language_info": {
   "codemirror_mode": {
    "name": "ipython",
    "version": 3
   },
   "file_extension": ".py",
   "mimetype": "text/x-python",
   "name": "python",
   "nbconvert_exporter": "python",
   "pygments_lexer": "ipython3",
   "version": "3.8.5"
  }
 },
 "nbformat": 4,
 "nbformat_minor": 5
}