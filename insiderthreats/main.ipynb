{
 "cells": [
  {
   "cell_type": "code",
   "execution_count": 2,
   "metadata": {},
   "outputs": [],
   "source": [
    "import pandas as pd\n",
    "import numpy as np\n",
    "# import os\n",
    "from fastai.tabular.all import *\n",
    "device = torch.device(\"cpu\")\n"
   ]
  },
  {
   "cell_type": "code",
   "execution_count": 87,
   "metadata": {},
   "outputs": [
    {
     "name": "stdout",
     "output_type": "stream",
     "text": [
      "<class 'pandas.core.frame.DataFrame'>\n",
      "RangeIndex: 23231 entries, 0 to 23230\n",
      "Data columns (total 6 columns):\n",
      " #   Column         Non-Null Count  Dtype   \n",
      "---  ------         --------------  -----   \n",
      " 0   insiderthreat  23231 non-null  category\n",
      " 1   vector         23231 non-null  object  \n",
      " 2   date           23231 non-null  int32   \n",
      " 3   user           23231 non-null  category\n",
      " 4   source         23231 non-null  category\n",
      " 5   action         22040 non-null  category\n",
      "dtypes: category(4), int32(1), object(1)\n",
      "memory usage: 554.6+ KB\n",
      "None\n"
     ]
    },
    {
     "data": {
      "text/html": [
       "<div>\n",
       "<style scoped>\n",
       "    .dataframe tbody tr th:only-of-type {\n",
       "        vertical-align: middle;\n",
       "    }\n",
       "\n",
       "    .dataframe tbody tr th {\n",
       "        vertical-align: top;\n",
       "    }\n",
       "\n",
       "    .dataframe thead th {\n",
       "        text-align: right;\n",
       "    }\n",
       "</style>\n",
       "<table border=\"1\" class=\"dataframe\">\n",
       "  <thead>\n",
       "    <tr style=\"text-align: right;\">\n",
       "      <th></th>\n",
       "      <th>insiderthreat</th>\n",
       "      <th>vector</th>\n",
       "      <th>date</th>\n",
       "      <th>user</th>\n",
       "      <th>source</th>\n",
       "      <th>action</th>\n",
       "    </tr>\n",
       "  </thead>\n",
       "  <tbody>\n",
       "    <tr>\n",
       "      <th>0</th>\n",
       "      <td>1</td>\n",
       "      <td>http</td>\n",
       "      <td>1280707200</td>\n",
       "      <td>CCH0959</td>\n",
       "      <td>PC-0588</td>\n",
       "      <td>http://linkedin.com/jobs/displayhome.html</td>\n",
       "    </tr>\n",
       "    <tr>\n",
       "      <th>1</th>\n",
       "      <td>1</td>\n",
       "      <td>http</td>\n",
       "      <td>1280707200</td>\n",
       "      <td>CCH0959</td>\n",
       "      <td>PC-0588</td>\n",
       "      <td>http://lockheedmartinjobs.com</td>\n",
       "    </tr>\n",
       "    <tr>\n",
       "      <th>2</th>\n",
       "      <td>1</td>\n",
       "      <td>http</td>\n",
       "      <td>1280707200</td>\n",
       "      <td>CCH0959</td>\n",
       "      <td>PC-0588</td>\n",
       "      <td>http://lockheedmartinjobs.com/searchall.aspx?sitesel=All</td>\n",
       "    </tr>\n",
       "    <tr>\n",
       "      <th>3</th>\n",
       "      <td>1</td>\n",
       "      <td>http</td>\n",
       "      <td>1280707200</td>\n",
       "      <td>CCH0959</td>\n",
       "      <td>PC-0588</td>\n",
       "      <td>http://indeed.com/Bronwyn_Bancroft/boomalli.html</td>\n",
       "    </tr>\n",
       "    <tr>\n",
       "      <th>4</th>\n",
       "      <td>1</td>\n",
       "      <td>http</td>\n",
       "      <td>1280793600</td>\n",
       "      <td>CCH0959</td>\n",
       "      <td>PC-0588</td>\n",
       "      <td>http://lockheedmartinjobs.com/searchhome.aspx</td>\n",
       "    </tr>\n",
       "  </tbody>\n",
       "</table>\n",
       "</div>"
      ],
      "text/plain": [
       "  insiderthreat vector        date     user   source  \\\n",
       "0             1   http  1280707200  CCH0959  PC-0588   \n",
       "1             1   http  1280707200  CCH0959  PC-0588   \n",
       "2             1   http  1280707200  CCH0959  PC-0588   \n",
       "3             1   http  1280707200  CCH0959  PC-0588   \n",
       "4             1   http  1280793600  CCH0959  PC-0588   \n",
       "\n",
       "                                                     action  \n",
       "0                 http://linkedin.com/jobs/displayhome.html  \n",
       "1                             http://lockheedmartinjobs.com  \n",
       "2  http://lockheedmartinjobs.com/searchall.aspx?sitesel=All  \n",
       "3          http://indeed.com/Bronwyn_Bancroft/boomalli.html  \n",
       "4             http://lockheedmartinjobs.com/searchhome.aspx  "
      ]
     },
     "execution_count": 87,
     "metadata": {},
     "output_type": "execute_result"
    }
   ],
   "source": [
    "\n",
    "dtypes = {\n",
    "\t'insiderthreat': 'category',\n",
    "\t'vector': 'int32',\n",
    "\t'date': 'int32',\n",
    "\t'user': 'category',\n",
    "\t'source': 'category',\n",
    "\t'action': 'category'\n",
    "}\n",
    "df = pd.read_csv(\"scenario2-training-dataset-transformed-tf2.csv\", dtype=dtypes)\n",
    "decoder = { 'vector':\n",
    "\t\t{1: 'email',\n",
    "\t\t2: 'device',\n",
    "\t\t0: 'http'}\n",
    "\t}\n",
    "\n",
    "df.replace(decoder, inplace=True)\n",
    "print(df.info())\n",
    "df.head()\n",
    "\n"
   ]
  },
  {
   "cell_type": "code",
   "execution_count": 93,
   "metadata": {},
   "outputs": [
    {
     "data": {
      "text/plain": [
       "['Connect', 'Disconnect', 'R:;R:LBE0376', NaN, 'R:;R:BYO1846;R:89R53P6;R:49c9sY4;R:964CdV8', ..., 'R:;R:VCF1602', 'R:;R:WDT1634;R:35m7xf4;R:16RM723', 'R:;R:ZIE0741;R:99wjK21;R:35W1SS4;R:66D7387', 'R:;R:45ZpXY0;R:JPH1910', 'R:;R:93K57Z6;R:99M5KM4;R:CMP2946']\n",
       "Length: 33\n",
       "Categories (32, object): ['Connect', 'Disconnect', 'R:;R:LBE0376', 'R:;R:BYO1846;R:89R53P6;R:49c9sY4;R:964CdV8', ..., 'R:;R:WDT1634;R:35m7xf4;R:16RM723', 'R:;R:ZIE0741;R:99wjK21;R:35W1SS4;R:66D7387', 'R:;R:45ZpXY0;R:JPH1910', 'R:;R:93K57Z6;R:99M5KM4;R:CMP2946']"
      ]
     },
     "execution_count": 93,
     "metadata": {},
     "output_type": "execute_result"
    }
   ],
   "source": [
    "# df.groupby(['user', 'insiderthreat'])['source'].count().sort_values(ascending=False)\n",
    "# df[(df.user == 'KSS1005') & (df.insiderthreat=='1')]\n",
    "df[df.vector == 'device'].action.unique()"
   ]
  },
  {
   "cell_type": "code",
   "execution_count": 50,
   "metadata": {},
   "outputs": [
    {
     "data": {
      "text/html": [
       "<table border=\"1\" class=\"dataframe\">\n",
       "  <thead>\n",
       "    <tr style=\"text-align: right;\">\n",
       "      <th></th>\n",
       "      <th>action</th>\n",
       "      <th>vector</th>\n",
       "      <th>date</th>\n",
       "      <th>insiderthreat</th>\n",
       "    </tr>\n",
       "  </thead>\n",
       "  <tbody>\n",
       "    <tr>\n",
       "      <th>0</th>\n",
       "      <td>Connect</td>\n",
       "      <td>2</td>\n",
       "      <td>1.283990e+09</td>\n",
       "      <td>1</td>\n",
       "    </tr>\n",
       "    <tr>\n",
       "      <th>1</th>\n",
       "      <td>Connect</td>\n",
       "      <td>2</td>\n",
       "      <td>1.262784e+09</td>\n",
       "      <td>0</td>\n",
       "    </tr>\n",
       "    <tr>\n",
       "      <th>2</th>\n",
       "      <td>Connect</td>\n",
       "      <td>2</td>\n",
       "      <td>1.264804e+09</td>\n",
       "      <td>0</td>\n",
       "    </tr>\n",
       "    <tr>\n",
       "      <th>3</th>\n",
       "      <td>Connect</td>\n",
       "      <td>2</td>\n",
       "      <td>1.263554e+09</td>\n",
       "      <td>0</td>\n",
       "    </tr>\n",
       "    <tr>\n",
       "      <th>4</th>\n",
       "      <td>Connect</td>\n",
       "      <td>2</td>\n",
       "      <td>1.264782e+09</td>\n",
       "      <td>0</td>\n",
       "    </tr>\n",
       "    <tr>\n",
       "      <th>5</th>\n",
       "      <td>#na#</td>\n",
       "      <td>2</td>\n",
       "      <td>1.288742e+09</td>\n",
       "      <td>1</td>\n",
       "    </tr>\n",
       "    <tr>\n",
       "      <th>6</th>\n",
       "      <td>http://lockheedmartin.com/wbofrnepu1636367808.aspx</td>\n",
       "      <td>0</td>\n",
       "      <td>1.299024e+09</td>\n",
       "      <td>1</td>\n",
       "    </tr>\n",
       "    <tr>\n",
       "      <th>7</th>\n",
       "      <td>http://rice-part.bad.net</td>\n",
       "      <td>0</td>\n",
       "      <td>1.262870e+09</td>\n",
       "      <td>0</td>\n",
       "    </tr>\n",
       "    <tr>\n",
       "      <th>8</th>\n",
       "      <td>http://wikipedia.org</td>\n",
       "      <td>0</td>\n",
       "      <td>1.262871e+09</td>\n",
       "      <td>0</td>\n",
       "    </tr>\n",
       "    <tr>\n",
       "      <th>9</th>\n",
       "      <td>http://jobhuntersbible.com/WboUhagvat1258877042.aspx</td>\n",
       "      <td>0</td>\n",
       "      <td>1.301616e+09</td>\n",
       "      <td>1</td>\n",
       "    </tr>\n",
       "  </tbody>\n",
       "</table>"
      ],
      "text/plain": [
       "<IPython.core.display.HTML object>"
      ]
     },
     "metadata": {},
     "output_type": "display_data"
    }
   ],
   "source": [
    "dep_var = 'insiderthreat'\n",
    "cat_names = ['user', 'source', 'action', 'vector']\n",
    "cat_names = ['action', 'vector']\n",
    "cont_names = ['date']\n",
    "procs = [Categorify, FillMissing, Normalize]\n",
    "\n",
    "valid_size = 0.2\n",
    "NUMBEROFSAMPLES = df.shape[0]\n",
    "\n",
    "np.random.seed(42)\n",
    "valid_idx = np.random.choice(range(NUMBEROFSAMPLES), int(NUMBEROFSAMPLES*valid_size))\n",
    "\n",
    "dls = TabularDataLoaders.from_df(df, procs=procs, cat_names=cat_names, cont_names=cont_names,\n",
    "\t\t\t\t y_names=dep_var, valid_idx=valid_idx, bs=64, device=device)\n",
    "dls.show_batch()"
   ]
  },
  {
   "cell_type": "code",
   "execution_count": 51,
   "metadata": {},
   "outputs": [],
   "source": [
    "learn = tabular_learner(dls, layers=[200,100], metrics=accuracy)\n"
   ]
  },
  {
   "cell_type": "code",
   "execution_count": 52,
   "metadata": {},
   "outputs": [
    {
     "data": {
      "text/html": [
       "<table border=\"1\" class=\"dataframe\">\n",
       "  <thead>\n",
       "    <tr style=\"text-align: left;\">\n",
       "      <th>epoch</th>\n",
       "      <th>train_loss</th>\n",
       "      <th>valid_loss</th>\n",
       "      <th>accuracy</th>\n",
       "      <th>time</th>\n",
       "    </tr>\n",
       "  </thead>\n",
       "  <tbody>\n",
       "    <tr>\n",
       "      <td>0</td>\n",
       "      <td>0.002722</td>\n",
       "      <td>0.000627</td>\n",
       "      <td>1.000000</td>\n",
       "      <td>00:02</td>\n",
       "    </tr>\n",
       "    <tr>\n",
       "      <td>1</td>\n",
       "      <td>0.000596</td>\n",
       "      <td>0.000269</td>\n",
       "      <td>1.000000</td>\n",
       "      <td>00:02</td>\n",
       "    </tr>\n",
       "  </tbody>\n",
       "</table>"
      ],
      "text/plain": [
       "<IPython.core.display.HTML object>"
      ]
     },
     "metadata": {},
     "output_type": "display_data"
    }
   ],
   "source": [
    "learn.fit_one_cycle(2)\n"
   ]
  },
  {
   "cell_type": "code",
   "execution_count": 53,
   "metadata": {},
   "outputs": [
    {
     "data": {
      "text/html": [],
      "text/plain": [
       "<IPython.core.display.HTML object>"
      ]
     },
     "metadata": {},
     "output_type": "display_data"
    },
    {
     "data": {
      "text/html": [
       "<table border=\"1\" class=\"dataframe\">\n",
       "  <thead>\n",
       "    <tr style=\"text-align: right;\">\n",
       "      <th></th>\n",
       "      <th>action</th>\n",
       "      <th>vector</th>\n",
       "      <th>date</th>\n",
       "      <th>insiderthreat</th>\n",
       "      <th>insiderthreat_pred</th>\n",
       "    </tr>\n",
       "  </thead>\n",
       "  <tbody>\n",
       "    <tr>\n",
       "      <th>0</th>\n",
       "      <td>1416.0</td>\n",
       "      <td>1.0</td>\n",
       "      <td>-1.190519</td>\n",
       "      <td>0.0</td>\n",
       "      <td>0.0</td>\n",
       "    </tr>\n",
       "    <tr>\n",
       "      <th>1</th>\n",
       "      <td>378.0</td>\n",
       "      <td>1.0</td>\n",
       "      <td>-1.178696</td>\n",
       "      <td>0.0</td>\n",
       "      <td>0.0</td>\n",
       "    </tr>\n",
       "    <tr>\n",
       "      <th>2</th>\n",
       "      <td>410.0</td>\n",
       "      <td>1.0</td>\n",
       "      <td>0.289343</td>\n",
       "      <td>1.0</td>\n",
       "      <td>1.0</td>\n",
       "    </tr>\n",
       "    <tr>\n",
       "      <th>3</th>\n",
       "      <td>596.0</td>\n",
       "      <td>1.0</td>\n",
       "      <td>-1.196312</td>\n",
       "      <td>0.0</td>\n",
       "      <td>0.0</td>\n",
       "    </tr>\n",
       "    <tr>\n",
       "      <th>4</th>\n",
       "      <td>628.0</td>\n",
       "      <td>1.0</td>\n",
       "      <td>-0.050637</td>\n",
       "      <td>1.0</td>\n",
       "      <td>1.0</td>\n",
       "    </tr>\n",
       "    <tr>\n",
       "      <th>5</th>\n",
       "      <td>827.0</td>\n",
       "      <td>1.0</td>\n",
       "      <td>0.694703</td>\n",
       "      <td>1.0</td>\n",
       "      <td>1.0</td>\n",
       "    </tr>\n",
       "    <tr>\n",
       "      <th>6</th>\n",
       "      <td>32.0</td>\n",
       "      <td>3.0</td>\n",
       "      <td>0.949688</td>\n",
       "      <td>1.0</td>\n",
       "      <td>1.0</td>\n",
       "    </tr>\n",
       "    <tr>\n",
       "      <th>7</th>\n",
       "      <td>761.0</td>\n",
       "      <td>1.0</td>\n",
       "      <td>1.616572</td>\n",
       "      <td>1.0</td>\n",
       "      <td>1.0</td>\n",
       "    </tr>\n",
       "    <tr>\n",
       "      <th>8</th>\n",
       "      <td>410.0</td>\n",
       "      <td>1.0</td>\n",
       "      <td>1.021607</td>\n",
       "      <td>1.0</td>\n",
       "      <td>1.0</td>\n",
       "    </tr>\n",
       "  </tbody>\n",
       "</table>"
      ],
      "text/plain": [
       "<IPython.core.display.HTML object>"
      ]
     },
     "metadata": {},
     "output_type": "display_data"
    }
   ],
   "source": [
    "learn.show_results()"
   ]
  },
  {
   "cell_type": "code",
   "execution_count": 25,
   "metadata": {},
   "outputs": [
    {
     "data": {
      "text/html": [],
      "text/plain": [
       "<IPython.core.display.HTML object>"
      ]
     },
     "metadata": {},
     "output_type": "display_data"
    }
   ],
   "source": [
    "# Predict\n",
    "row, clas, prob = learn.predict(df.iloc[15000])\n"
   ]
  },
  {
   "cell_type": "code",
   "execution_count": 27,
   "metadata": {},
   "outputs": [
    {
     "data": {
      "text/plain": [
       "    user  source  action  vector      date  insiderthreat\n",
       "0  603.0   882.0    32.0     3.0 -1.163744            0.0"
      ]
     },
     "execution_count": 27,
     "metadata": {},
     "output_type": "execute_result"
    }
   ],
   "source": [
    "row"
   ]
  },
  {
   "cell_type": "code",
   "execution_count": 41,
   "metadata": {},
   "outputs": [],
   "source": [
    "cols = ['id', 'date', 'user', 'pc', 'type', 'activity', 'content', 'threat']"
   ]
  },
  {
   "cell_type": "code",
   "execution_count": 48,
   "metadata": {},
   "outputs": [],
   "source": [
    "def combinecsvs(rootpath, threat, list_of_files, outputpath):\n",
    "\theader = True\n",
    "\tmode = 'w'\n",
    "\t# Replace column names\n",
    "\told_to_new_names = {'url': 'activity'}\n",
    "\tfor file in list_of_files:\n",
    "\t\tchunks = pd.read_csv(rootpath + file, parse_dates=['date'], chunksize=100000)\n",
    "\t\tprint(\"### Processing file\", file, \"###\")\n",
    "\t\tfor chunk_index, data in enumerate(chunks):\n",
    "\t\t\t# @preprocessing\n",
    "\t\t\tdata['type'] = file.split(\".\")[0]\n",
    "\t\t\tdata['threat'] = threat\n",
    "\t\t\tif 'content' not in data.columns:\n",
    "\t\t\t\tdata['content'] = '-'\n",
    "\n",
    "\t\t\tdata.rename(old_to_new_names, axis=1, inplace=True)\n",
    "\n",
    "\t\t\tdata.to_csv(outputpath, header=header, mode=mode, \n",
    "\t\t\t\tcolumns=cols, index=False)\n",
    "\t\t\theader=False\n",
    "\t\t\tmode='a'\n",
    "\t\t\tprint('Processed Chunk #', chunk_index)"
   ]
  },
  {
   "cell_type": "code",
   "execution_count": 45,
   "metadata": {},
   "outputs": [
    {
     "name": "stdout",
     "output_type": "stream",
     "text": [
      "### Processing file device.csv ###\n",
      "Processed Chunk # 0\n",
      "### Processing file http.csv ###\n",
      "Processed Chunk # 0\n",
      "Processed Chunk # 1\n",
      "Processed Chunk # 2\n",
      "Processed Chunk # 3\n",
      "Processed Chunk # 4\n",
      "Processed Chunk # 5\n",
      "Processed Chunk # 6\n",
      "Processed Chunk # 7\n",
      "Processed Chunk # 8\n",
      "Processed Chunk # 9\n",
      "Processed Chunk # 10\n",
      "Processed Chunk # 11\n",
      "Processed Chunk # 12\n",
      "Processed Chunk # 13\n",
      "Processed Chunk # 14\n",
      "Processed Chunk # 15\n",
      "Processed Chunk # 16\n",
      "Processed Chunk # 17\n",
      "Processed Chunk # 18\n",
      "Processed Chunk # 19\n",
      "Processed Chunk # 20\n",
      "Processed Chunk # 21\n",
      "Processed Chunk # 22\n",
      "Processed Chunk # 23\n",
      "Processed Chunk # 24\n",
      "Processed Chunk # 25\n",
      "Processed Chunk # 26\n",
      "Processed Chunk # 27\n",
      "Processed Chunk # 28\n",
      "Processed Chunk # 29\n",
      "Processed Chunk # 30\n",
      "Processed Chunk # 31\n",
      "Processed Chunk # 32\n",
      "Processed Chunk # 33\n",
      "Processed Chunk # 34\n",
      "### Processing file logon.csv ###\n",
      "Processed Chunk # 0\n",
      "Processed Chunk # 1\n",
      "Processed Chunk # 2\n",
      "Processed Chunk # 3\n",
      "Processed Chunk # 4\n",
      "Processed Chunk # 5\n",
      "Processed Chunk # 6\n",
      "Processed Chunk # 7\n",
      "Processed Chunk # 8\n"
     ]
    }
   ],
   "source": [
    "\n",
    "# TRUE POSITIVES\n",
    "rootpath = \"/home/haktrak/Public/InsiderThreatDataset/r3.1/\"\n",
    "\n",
    "list_of_files = ['device.csv', 'http.csv', 'logon.csv', 'email.csv', 'file.csv']\n",
    "outputpath:str = \"combined_truepositive.csv\"\n",
    "threat: bool = True\n",
    "combinecsvs(rootpath, threat, list_of_files, outputpath)\n",
    "\n"
   ]
  },
  {
   "cell_type": "code",
   "execution_count": 40,
   "metadata": {},
   "outputs": [
    {
     "name": "stdout",
     "output_type": "stream",
     "text": [
      "<class 'pandas.core.frame.DataFrame'>\n",
      "RangeIndex: 100000 entries, 0 to 99999\n",
      "Data columns (total 5 columns):\n",
      " #   Column    Non-Null Count   Dtype         \n",
      "---  ------    --------------   -----         \n",
      " 0   id        100000 non-null  object        \n",
      " 1   date      100000 non-null  datetime64[ns]\n",
      " 2   user      100000 non-null  category      \n",
      " 3   pc        100000 non-null  category      \n",
      " 4   activity  100000 non-null  category      \n",
      "dtypes: category(3), datetime64[ns](1), object(1)\n",
      "memory usage: 2.8+ MB\n"
     ]
    }
   ],
   "source": [
    "# Replace column names\n",
    "old_to_new_names = {'url': 'activity'}\n",
    "data.rename(old_to_new_names, axis=1, inplace=True)\n",
    "\n",
    "# Interpret certain columns as categorical\n",
    "cat_cols = ['user', 'pc', 'activity']\n",
    "data[cat_cols] = data[cat_cols].astype('category')\n",
    "data.info()\n"
   ]
  },
  {
   "cell_type": "code",
   "execution_count": 53,
   "metadata": {},
   "outputs": [
    {
     "name": "stdout",
     "output_type": "stream",
     "text": [
      "<class 'pandas.core.frame.DataFrame'>\n",
      "RangeIndex: 10 entries, 0 to 9\n",
      "Data columns (total 6 columns):\n",
      " #   Column   Non-Null Count  Dtype         \n",
      "---  ------   --------------  -----         \n",
      " 0   id       10 non-null     object        \n",
      " 1   date     10 non-null     datetime64[ns]\n",
      " 2   user     10 non-null     object        \n",
      " 3   pc       10 non-null     object        \n",
      " 4   url      10 non-null     object        \n",
      " 5   content  10 non-null     object        \n",
      "dtypes: datetime64[ns](1), object(5)\n",
      "memory usage: 608.0+ bytes\n",
      "None\n"
     ]
    },
    {
     "data": {
      "text/html": [
       "<div>\n",
       "<style scoped>\n",
       "    .dataframe tbody tr th:only-of-type {\n",
       "        vertical-align: middle;\n",
       "    }\n",
       "\n",
       "    .dataframe tbody tr th {\n",
       "        vertical-align: top;\n",
       "    }\n",
       "\n",
       "    .dataframe thead th {\n",
       "        text-align: right;\n",
       "    }\n",
       "</style>\n",
       "<table border=\"1\" class=\"dataframe\">\n",
       "  <thead>\n",
       "    <tr style=\"text-align: right;\">\n",
       "      <th></th>\n",
       "      <th>id</th>\n",
       "      <th>date</th>\n",
       "      <th>user</th>\n",
       "      <th>pc</th>\n",
       "      <th>url</th>\n",
       "      <th>content</th>\n",
       "    </tr>\n",
       "  </thead>\n",
       "  <tbody>\n",
       "    <tr>\n",
       "      <th>0</th>\n",
       "      <td>{U0G4-P5TW04EO-9366IUQF}</td>\n",
       "      <td>2010-01-02 06:36:20</td>\n",
       "      <td>EBH0519</td>\n",
       "      <td>PC-9573</td>\n",
       "      <td>http://usbank.com/1930_FIFA_World_Cup/patenaud...</td>\n",
       "      <td>neros printing pastiche four topiary body pink...</td>\n",
       "    </tr>\n",
       "    <tr>\n",
       "      <th>1</th>\n",
       "      <td>{G0R5-U4RX40DR-3710WPUY}</td>\n",
       "      <td>2010-01-02 06:39:22</td>\n",
       "      <td>EBH0519</td>\n",
       "      <td>PC-9573</td>\n",
       "      <td>http://forbes.com/Chorioactis/urnula.html</td>\n",
       "      <td>balhae fubing guotu namsaeng geng chuzhou ying...</td>\n",
       "    </tr>\n",
       "    <tr>\n",
       "      <th>2</th>\n",
       "      <td>{G0Q6-F5CV96RX-0355APNP}</td>\n",
       "      <td>2010-01-02 06:39:53</td>\n",
       "      <td>EBH0519</td>\n",
       "      <td>PC-9573</td>\n",
       "      <td>http://coupons.com/BeauchampSharp_Tragedy/darb...</td>\n",
       "      <td>ziyi hazelnuts 34850 stat_area1 namsaeng kucha...</td>\n",
       "    </tr>\n",
       "    <tr>\n",
       "      <th>3</th>\n",
       "      <td>{J8X0-C9ZO08VS-9370QIFO}</td>\n",
       "      <td>2010-01-02 06:40:56</td>\n",
       "      <td>EBH0519</td>\n",
       "      <td>PC-9573</td>\n",
       "      <td>http://youtube.com/Amanita_ocreata/velosa.html</td>\n",
       "      <td>flambard anselm anselm precentor thurgot visit...</td>\n",
       "    </tr>\n",
       "    <tr>\n",
       "      <th>4</th>\n",
       "      <td>{E0J4-D6WM72LS-9186JPKE}</td>\n",
       "      <td>2010-01-02 06:47:23</td>\n",
       "      <td>EBH0519</td>\n",
       "      <td>PC-9573</td>\n",
       "      <td>http://twitter.com/Cannon/m198.html</td>\n",
       "      <td>maternus henrici anselm walkelin maternus thur...</td>\n",
       "    </tr>\n",
       "  </tbody>\n",
       "</table>\n",
       "</div>"
      ],
      "text/plain": [
       "                         id                date     user       pc  \\\n",
       "0  {U0G4-P5TW04EO-9366IUQF} 2010-01-02 06:36:20  EBH0519  PC-9573   \n",
       "1  {G0R5-U4RX40DR-3710WPUY} 2010-01-02 06:39:22  EBH0519  PC-9573   \n",
       "2  {G0Q6-F5CV96RX-0355APNP} 2010-01-02 06:39:53  EBH0519  PC-9573   \n",
       "3  {J8X0-C9ZO08VS-9370QIFO} 2010-01-02 06:40:56  EBH0519  PC-9573   \n",
       "4  {E0J4-D6WM72LS-9186JPKE} 2010-01-02 06:47:23  EBH0519  PC-9573   \n",
       "\n",
       "                                                 url  \\\n",
       "0  http://usbank.com/1930_FIFA_World_Cup/patenaud...   \n",
       "1          http://forbes.com/Chorioactis/urnula.html   \n",
       "2  http://coupons.com/BeauchampSharp_Tragedy/darb...   \n",
       "3     http://youtube.com/Amanita_ocreata/velosa.html   \n",
       "4                http://twitter.com/Cannon/m198.html   \n",
       "\n",
       "                                             content  \n",
       "0  neros printing pastiche four topiary body pink...  \n",
       "1  balhae fubing guotu namsaeng geng chuzhou ying...  \n",
       "2  ziyi hazelnuts 34850 stat_area1 namsaeng kucha...  \n",
       "3  flambard anselm anselm precentor thurgot visit...  \n",
       "4  maternus henrici anselm walkelin maternus thur...  "
      ]
     },
     "execution_count": 53,
     "metadata": {},
     "output_type": "execute_result"
    }
   ],
   "source": [
    "# TRUE POSITIVE\n",
    "\n",
    "rootpath = \"/home/haktrak/Public/InsiderThreatDataset/r3.1/\"\n",
    "\n",
    "# TRUE NEGATIVES (which are REALLY BIG)\n",
    "list_of_files = ['device.csv', 'http.csv', 'logon.csv', 'file.csv', 'email.csv']\n",
    "data = pd.read_csv(rootpath + list_of_files[1], parse_dates=['date'], chunksize=10)\n",
    "\n",
    "instance = next(data)\n",
    "print(instance.info())\n",
    "instance.head()\n",
    "\n"
   ]
  },
  {
   "cell_type": "code",
   "execution_count": 57,
   "metadata": {},
   "outputs": [
    {
     "data": {
      "text/plain": [
       "'maternus henrici anselm walkelin maternus thurgot harcourt gerard histamine promyelocytic ceplene leukemic anthracycline chloroma npm1 monoblastic chloroma schemata neutropenia apl virchow myeloproliferative cytochemical proleukin saccadic chorea genetically increasingly institutionalization models akinetic hypersexuality abilities psychomotor chorea subcortical chorea unsteady unexploded chosin muzzle 1288 jalut 694 1280 vicomte m198 chosin 1643 breitenfeld m198'"
      ]
     },
     "execution_count": 57,
     "metadata": {},
     "output_type": "execute_result"
    }
   ],
   "source": [
    "instance.iloc[4]['content']"
   ]
  },
  {
   "cell_type": "code",
   "execution_count": null,
   "metadata": {},
   "outputs": [],
   "source": [
    "\n",
    "\n",
    "#Split the dataframe into train, validation, and test\n",
    "train, test = train_test_split(dataframe, test_size=0.2)\n",
    "train, val = train_test_split(train, test_size=0.2)\n",
    "print(len(train), 'train examples')\n",
    "print(len(val), 'validation examples')\n",
    "print(len(test), 'test examples')\n",
    "#Create an input pipeline using tf.data\n",
    "# A utility method to create a tf.data dataset from a Pandas Dataframe\n",
    "def df_to_dataset(dataframe, shuffle=True, batch_size=32):\n",
    "\tdataframe = dataframe.copy()\n",
    "\tlabels = dataframe.pop('insiderthreat')\n",
    "\tds = tf.data.Dataset.from_tensor_slices((dict(dataframe), labels))\n",
    "\tif shuffle:\n",
    "\t\tds = ds.shuffle(buffer_size=len(dataframe))\n",
    "\tds = ds.batch(batch_size)\n",
    "\treturn ds\n",
    "#choose columns needed for calculations (features)\n",
    "feature_columns = []\n",
    "for header in [\"vector\", \"date\", \"user\", \"source\", \"action\"]:\n",
    "    feature_columns.append(feature_column.numeric_column(header))\n",
    "#create feature layer\n",
    "feature_layer = tf.keras.layers.DenseFeatures(feature_columns)\n",
    "#set batch size pipeline\n",
    "batch_size = 32\n",
    "train_ds = df_to_dataset(train, batch_size=batch_size)\n",
    "val_ds = df_to_dataset(val, shuffle=False, batch_size=batch_size)\n",
    "test_ds = df_to_dataset(test, shuffle=False, batch_size=batch_size)\n",
    "#create compile and train model\n",
    "model = tf.keras.Sequential([\n",
    "  feature_layer,\n",
    "  layers.Dense(128, activation='relu'),\n",
    "  layers.Dense(128, activation='relu'),\n",
    "  layers.Dense(1)\n",
    "])\n",
    "model.compile(optimizer='adam',\n",
    "              loss=tf.keras.losses.BinaryCrossentropy(from_logits=True),\n",
    "              metrics=['accuracy'])\n",
    "model.fit(train_ds,\n",
    "          validation_data=val_ds,\n",
    "          epochs=5)\n",
    "loss, accuracy = model.evaluate(test_ds)\n",
    "print(\"Accuracy\", accuracy)"
   ]
  }
 ],
 "metadata": {
  "interpreter": {
   "hash": "31f2aee4e71d21fbe5cf8b01ff0e069b9275f58929596ceb00d14d90e3e16cd6"
  },
  "kernelspec": {
   "display_name": "Python 3.8.10 64-bit",
   "name": "python3"
  },
  "language_info": {
   "name": "python",
   "version": ""
  },
  "orig_nbformat": 4
 },
 "nbformat": 4,
 "nbformat_minor": 2
}