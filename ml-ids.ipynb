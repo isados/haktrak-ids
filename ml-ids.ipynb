{
 "metadata": {
  "language_info": {
   "codemirror_mode": {
    "name": "ipython",
    "version": 3
   },
   "file_extension": ".py",
   "mimetype": "text/x-python",
   "name": "python",
   "nbconvert_exporter": "python",
   "pygments_lexer": "ipython3",
   "version": "3.8.5"
  },
  "orig_nbformat": 4,
  "kernelspec": {
   "name": "python3",
   "display_name": "Python 3.8.5 64-bit"
  },
  "interpreter": {
   "hash": "916dbcbb3f70747c44a77c7bcd40155683ae19c65e1c03b4aa3499c5328201f1"
  }
 },
 "nbformat": 4,
 "nbformat_minor": 2,
 "cells": [
  {
   "cell_type": "code",
   "execution_count": 1,
   "metadata": {},
   "outputs": [],
   "source": [
    "import numpy as np \n",
    "from numpy import dtype\n",
    "import time\n",
    "import pandas as pd \n",
    "\n",
    "%matplotlib inline\n"
   ]
  },
  {
   "cell_type": "code",
   "execution_count": 2,
   "metadata": {},
   "outputs": [],
   "source": [
    "dtypes = {\n",
    " 'Dst Port': dtype('int64'),\n",
    " 'Protocol': dtype('int64'),\n",
    " 'Flow Duration': dtype('int64'),\n",
    " 'Tot Fwd Pkts': dtype('int64'),\n",
    " 'Tot Bwd Pkts': dtype('int64'),\n",
    " 'TotLen Fwd Pkts': dtype('float64'),\n",
    " 'TotLen Bwd Pkts': dtype('float64'),\n",
    " 'Fwd Pkt Len Max': dtype('float64'),\n",
    " 'Fwd Pkt Len Min': dtype('float64'),\n",
    " 'Fwd Pkt Len Mean': dtype('float64'),\n",
    " 'Fwd Pkt Len Std': dtype('float64'),\n",
    " 'Bwd Pkt Len Max': dtype('float64'),\n",
    " 'Bwd Pkt Len Min': dtype('float64'),\n",
    " 'Bwd Pkt Len Mean': dtype('float64'),\n",
    " 'Bwd Pkt Len Std': dtype('float64'),\n",
    " 'Flow Byts/s': dtype('float64'),\n",
    " 'Flow Pkts/s': dtype('float64'),\n",
    " 'Flow IAT Mean': dtype('float64'),\n",
    " 'Flow IAT Std': dtype('float64'),\n",
    " 'Flow IAT Max': dtype('float64'),\n",
    " 'Flow IAT Min': dtype('float64'),\n",
    " 'Fwd IAT Tot': dtype('float64'),\n",
    " 'Fwd IAT Mean': dtype('float64'),\n",
    " 'Fwd IAT Std': dtype('float64'),\n",
    " 'Fwd IAT Max': dtype('float64'),\n",
    " 'Fwd IAT Min': dtype('float64'),\n",
    " 'Bwd IAT Tot': dtype('float64'),\n",
    " 'Bwd IAT Mean': dtype('float64'),\n",
    " 'Bwd IAT Std': dtype('float64'),\n",
    " 'Bwd IAT Max': dtype('float64'),\n",
    " 'Bwd IAT Min': dtype('float64'),\n",
    " 'Fwd PSH Flags': dtype('int64'),\n",
    " 'Bwd PSH Flags': dtype('int64'),\n",
    " 'Fwd URG Flags': dtype('int64'),\n",
    " 'Bwd URG Flags': dtype('int64'),\n",
    " 'Fwd Header Len': dtype('int64'),\n",
    " 'Bwd Header Len': dtype('int64'),\n",
    " 'Fwd Pkts/s': dtype('float64'),\n",
    " 'Bwd Pkts/s': dtype('float64'),\n",
    " 'Pkt Len Min': dtype('float64'),\n",
    " 'Pkt Len Max': dtype('float64'),\n",
    " 'Pkt Len Mean': dtype('float64'),\n",
    " 'Pkt Len Std': dtype('float64'),\n",
    " 'Pkt Len Var': dtype('float64'),\n",
    " 'FIN Flag Cnt': dtype('int64'),\n",
    " 'SYN Flag Cnt': dtype('int64'),\n",
    " 'RST Flag Cnt': dtype('int64'),\n",
    " 'PSH Flag Cnt': dtype('int64'),\n",
    " 'ACK Flag Cnt': dtype('int64'),\n",
    " 'URG Flag Cnt': dtype('int64'),\n",
    " 'CWE Flag Count': dtype('int64'),\n",
    " 'ECE Flag Cnt': dtype('int64'),\n",
    " 'Down/Up Ratio': dtype('float64'),\n",
    " 'Pkt Size Avg': dtype('float64'),\n",
    " 'Fwd Seg Size Avg': dtype('float64'),\n",
    " 'Bwd Seg Size Avg': dtype('float64'),\n",
    " 'Fwd Byts/b Avg': dtype('float64'),\n",
    " 'Fwd Pkts/b Avg': dtype('float64'),\n",
    " 'Fwd Blk Rate Avg': dtype('float64'),\n",
    " 'Bwd Byts/b Avg': dtype('float64'),\n",
    " 'Bwd Pkts/b Avg': dtype('float64'),\n",
    " 'Bwd Blk Rate Avg': dtype('float64'),\n",
    " 'Subflow Fwd Pkts': dtype('int64'),\n",
    " 'Subflow Fwd Byts': dtype('int64'),\n",
    " 'Subflow Bwd Pkts': dtype('int64'),\n",
    " 'Subflow Bwd Byts': dtype('int64'),\n",
    " 'Init Fwd Win Byts': dtype('int64'),\n",
    " 'Init Bwd Win Byts': dtype('int64'),\n",
    " 'Fwd Act Data Pkts': dtype('int64'),\n",
    " 'Fwd Seg Size Min': dtype('int64'),\n",
    " 'Active Mean': dtype('float64'),\n",
    " 'Active Std': dtype('float64'),\n",
    " 'Active Max': dtype('float64'),\n",
    " 'Active Min': dtype('float64'),\n",
    " 'Idle Mean': dtype('float64'),\n",
    " 'Idle Std': dtype('float64'),\n",
    " 'Idle Max': dtype('float64'),\n",
    " 'Idle Min': dtype('float64'),\n",
    " 'Label': dtype('O')\n",
    " }\n",
    "\n",
    "#The inf values are replaced with nan values, subsequently imputing all nan values of those columns with the mean of the columns. \n",
    "\n",
    "def replace_infinity_with_mean(df):\n",
    "    inf_columns = [c for c in df.columns if df[df[c] == np.inf][c].count()>0]\n",
    "    for col in inf_columns:\n",
    "        df[col].replace([np.inf, -np.inf], np.nan, inplace =True)\n",
    "        mean = df[col].mean()\n",
    "        df[col].fillna(mean, inplace=True)\n",
    "    return df \n",
    "\n",
    "def replace_negative_values_with_mean(df):\n",
    "    numeric_cols = df.select_dtypes(include = [np.number]).columns.values \n",
    "    columns = [c for c in numeric_cols if df[df[c]<0][c].count()>0]\n",
    "    for col in columns: \n",
    "        mask = df[col]<0\n",
    "        df.loc[mask,col] = np.nan\n",
    "        mean = df[col].mean()\n",
    "        df[col].fillna(mean,inplace=True)\n",
    "    return df\n",
    "\n",
    "def preprocessing(df): \n",
    "    df = replace_infinity_with_mean(df)\n",
    "    df = replace_negative_values_with_mean(df)\n",
    "    classes = {'DDoS attacks-LOIC-HTTP': 1, 'Benign': 0,'DDOS attack-HOIC': 2,'DDOS attack-LOIC-UDP': 3,'DoS attacks-SlowHTTPTest': 4,'DoS attacks-Hulk': 5,'Bot': 6,'FTP-BruteForce': 7,'SSH-Bruteforce': 8,'Infilteration': 9,'DoS attacks-GoldenEye': 10,'DoS attacks-Slowloris': 11}\n",
    "    df= df.drop('Timestamp', axis = 1)\n",
    "    df['Label'] = df['Label'].apply(lambda x: classes[x])\n",
    "    return df \n",
    "\n"
   ]
  },
  {
   "cell_type": "code",
   "execution_count": 39,
   "metadata": {
    "tags": []
   },
   "outputs": [
    {
     "output_type": "stream",
     "name": "stdout",
     "text": [
      "Processed within:  0.92728590965271 sec\n"
     ]
    }
   ],
   "source": [
    "from sklearn.linear_model import SGDClassifier\n",
    "df_train = pd.read_csv(\"shuffled_1000_train.csv\")\n",
    "start = time.time()\n",
    "df_train = preprocessing(df_train)\n",
    "x_train = df_train.drop(columns = ['Label'])\n",
    "y_train = df_train['Label']\n",
    "\n",
    "model = SGDClassifier(random_state = 0)\n",
    "model.fit(x_train, y_train)\n",
    "\n",
    "df_test = pd.read_csv(\"shuffled_1000_test.csv\")\n",
    " \n",
    "df_test = preprocessing(df_test)\n",
    "x_test = df_test.drop(columns = ['Label'])\n",
    "y_test = df_test['Label']\n",
    "y_pred_test = model.predict(x_test)\n",
    "y_pred_train = model.predict(x_train)\n",
    "end = time.time()\n",
    "\n",
    "#print(\"Predictions: \" ,y_pred)\n",
    "print(f\"Processed within: \", (end-start), \"sec\")\n",
    "\n"
   ]
  },
  {
   "cell_type": "code",
   "execution_count": 40,
   "metadata": {},
   "outputs": [
    {
     "output_type": "stream",
     "name": "stdout",
     "text": [
      "Accuracy score: 0.5266666666666666   0.5171428571428571\nPrecision: 0.5266666666666666   0.5171428571428571\n"
     ]
    }
   ],
   "source": [
    "from sklearn.metrics import accuracy_score, precision_score\n",
    "accuracy_test = accuracy_score(y_test, y_pred_test)\n",
    "precision_test = precision_score(y_test, y_pred_test, average = 'micro')\n",
    "accuracy_train = accuracy_score(y_train, y_pred_train)\n",
    "precision_train = precision_score(y_train,y_pred_train, average= 'micro')\n",
    "\n",
    "print(\"Accuracy score:\" , accuracy_test , \" \" , accuracy_train)\n",
    "print(\"Precision:\", precision_test, \" \" , precision_train )"
   ]
  },
  {
   "cell_type": "code",
   "execution_count": null,
   "metadata": {},
   "outputs": [],
   "source": []
  }
 ]
}